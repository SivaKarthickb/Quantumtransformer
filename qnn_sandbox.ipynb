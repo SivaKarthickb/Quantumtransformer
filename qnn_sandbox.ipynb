{
 "cells": [
  {
   "cell_type": "code",
   "execution_count": 1,
   "metadata": {},
   "outputs": [],
   "source": [
    "import matplotlib.pyplot as plt"
   ]
  },
  {
   "cell_type": "code",
   "execution_count": 2,
   "metadata": {},
   "outputs": [],
   "source": [
    "import numpy as np\n",
    "\n",
    "from qiskit import Aer, QuantumCircuit\n",
    "from qiskit.circuit import Parameter\n",
    "from qiskit.circuit.library import RealAmplitudes, ZZFeatureMap, PauliFeatureMap\n",
    "from qiskit.opflow import StateFn, PauliSumOp, AerPauliExpectation, ListOp, Gradient\n",
    "from qiskit.utils import QuantumInstance\n",
    "from qiskit_machine_learning.neural_networks import OpflowQNN\n",
    "from qiskit.circuit.library import TwoLocal\n",
    "\n",
    "import math\n",
    "\n",
    "import torch\n",
    "import torch.nn as nn\n",
    "import torch.nn.functional as F\n",
    "from torch.nn.utils.rnn import pad_sequence\n",
    "import pennylane as qml\n",
    "from qiskit_machine_learning.neural_networks import CircuitQNN, TwoLayerQNN\n",
    "from qiskit_machine_learning.connectors import TorchConnector\n",
    "qi = QuantumInstance(Aer.get_backend('aer_simulator_statevector'))\n"
   ]
  },
  {
   "cell_type": "code",
   "execution_count": 3,
   "metadata": {},
   "outputs": [],
   "source": [
    "class MultiHeadAttentionBase(nn.Module):\n",
    "    def __init__(self,\n",
    "                 embed_dim: int,\n",
    "                 num_heads: int,\n",
    "                 dropout: float = 0.1,\n",
    "                 mask=None,\n",
    "                 use_bias=False):\n",
    "        super(MultiHeadAttentionBase, self).__init__()\n",
    "\n",
    "        assert embed_dim % num_heads == 0, f\"Embedding dimension ({embed_dim}) should be divisible by number of heads ({num_heads})\"\n",
    "\n",
    "        self.embed_dim = embed_dim\n",
    "        self.num_heads = num_heads\n",
    "        self.d_k = embed_dim // num_heads  # projection dimensions\n",
    "        self.k_linear = None\n",
    "        self.q_linear = None\n",
    "        self.v_linear = None\n",
    "        self.combine_heads = None\n",
    "        self.dropout = nn.Dropout(dropout)\n",
    "        self.attn_weights = None\n",
    "    \n",
    "    def separate_heads(self, x):\n",
    "        '''\n",
    "        split into N heads\n",
    "        from (batch_size, seq_len, embed_dim)\n",
    "        to   (batch_size, seq_len, num_heads, embed_dim)\n",
    "        then transpose (1,2) to (batch_size, num_heads, seq_len, embed_dim)\n",
    "        to make mat mult straightforward for each head\n",
    "        '''\n",
    "        batch_size = x.size(0)\n",
    "        x = x.view(batch_size, -1, self.num_heads, self.d_k)\n",
    "        return x.transpose(1, 2)\n",
    "\n",
    "    def attention(self, query, key, value, mask=None, dropout=None):\n",
    "        '''\n",
    "        Attention(Q, K, V) = softmax(Q K^T / sqrt(d_k))V\n",
    "        '''\n",
    "        scores = torch.matmul(query, key.transpose(-2, -1)) / math.sqrt(self.d_k)\n",
    "        # see also: https://tensorchiefs.github.io/dlday2018/tutorial/einsum.html\n",
    "        #scores = torch.einsum('bijh, bkjh -> bikh', query, key) / math.sqrt(self.d_k)\n",
    "        if mask is not None:\n",
    "            mask = mask.unsqueeze(1)\n",
    "            scores = scores.masked_fill(mask == 0, -1e9)\n",
    "        scores = F.softmax(scores, dim=-1)\n",
    "        if dropout is not None:\n",
    "            scores = dropout(scores)\n",
    "        attn = torch.matmul(scores, value)\n",
    "        return attn, scores\n",
    "    \n",
    "    def downstream(self, query, key, value, batch_size, mask=None):\n",
    "        Q = self.separate_heads(query)\n",
    "        K = self.separate_heads(key)\n",
    "        V = self.separate_heads(value)\n",
    "\n",
    "        x, self.attn_weights = self.attention(Q, K, V, mask, dropout=self.dropout)\n",
    "\n",
    "        concat = x.transpose(1, 2).contiguous().view(batch_size, -1, self.embed_dim)\n",
    "\n",
    "        return concat\n",
    "        # output = self.combine_heads(concat)\n",
    "        # return output\n",
    "\n",
    "    def forward(self, x, mask=None):\n",
    "        raise NotImplementedError(\"Base class does not execute forward function.\")\n",
    "\n"
   ]
  },
  {
   "cell_type": "code",
   "execution_count": 4,
   "metadata": {
    "code_folding": []
   },
   "outputs": [],
   "source": [
    "class MultiHeadAttentionQuantum(MultiHeadAttentionBase):\n",
    "    def __init__(self,\n",
    "                 embed_dim: int,\n",
    "                 num_heads: int,\n",
    "                 dropout=0.1,\n",
    "                 mask=None,\n",
    "                 use_bias=False,\n",
    "                 n_qubits: int = 4,\n",
    "                 n_qlayers: int = 1,\n",
    "                 q_device=\"default.qubit\",\n",
    "                 ansatz_id=1):\n",
    "        super(MultiHeadAttentionQuantum, self).__init__(embed_dim, num_heads, dropout=dropout, mask=mask, use_bias=use_bias)\n",
    "        \n",
    "        # todo: add intermediate layer to \"dress\" quantum circuit\n",
    "        assert n_qubits == embed_dim, \"Number of qubits ({n_qubits}) does not match embedding dim ({embed_dim})\"\n",
    "\n",
    "        self.n_qubits = n_qubits\n",
    "        self.n_qlayers = n_qlayers\n",
    "        self.q_device = q_device\n",
    "        self.ansatz_id = ansatz_id\n",
    "        if 'qulacs' in q_device:\n",
    "            self.dev = qml.device(q_device, wires=self.n_qubits, gpu=True)\n",
    "        elif 'braket' in q_device:\n",
    "            self.dev = qml.device(q_device, wires=self.n_qubits, parallel=True)\n",
    "        else:\n",
    "            self.dev = qml.device(q_device, wires=self.n_qubits)\n",
    "\n",
    "\n",
    "        if ansatz_id==1:\n",
    "            def _circuit(inputs, weights):\n",
    "                qml.templates.AngleEmbedding(inputs, wires=range(self.n_qubits))\n",
    "                qml.templates.BasicEntanglerLayers(weights, wires=range(n_qubits))\n",
    "                return [qml.expval(qml.PauliZ(wires=i)) for i in range(n_qubits)]\n",
    "        elif ansatz_id==2:\n",
    "            def _circuit(inputs, weights):\n",
    "                for i in range(len(inputs)):\n",
    "                    qml.Hadamard(wires=i)\n",
    "                inputs_arctan1 = np.arctan(inputs)\n",
    "                inputs_arctan2 = np.arctan(inputs**2)\n",
    "                qml.templates.AngleEmbedding(inputs_arctan1, wires=range(n_qubits),rotation='Y')\n",
    "                qml.templates.AngleEmbedding(inputs_arctan2, wires=range(n_qubits),rotation='Z')\n",
    "                for w in range(weights.shape[0]):\n",
    "                  qml.broadcast(qml.CNOT,wires=range(n_qubits),pattern=\"ring\")\n",
    "                  for i in range(len(inputs)):\n",
    "                    qml.CNOT(wires=[i, (i+2)%len(inputs)])\n",
    "                  qml.templates.AngleEmbedding(weights[w], wires=range(n_qubits),rotation='Y')\n",
    "                 \n",
    "                return [qml.expval(qml.PauliZ(wires=i)) for i in range(n_qubits)]\n",
    "\n",
    "        self.qlayer = qml.QNode(_circuit, self.dev, interface=\"torch\")\n",
    "        self.weight_shapes = {\"weights\": (n_qlayers, n_qubits)}\n",
    "        print(f\"weight_shapes = (n_qlayers, n_qubits) = ({n_qlayers}, {self.n_qubits})\")\n",
    "\n",
    "        print(\"before TorchLayer: \", self.k_linear, self.q_linear,self.v_linear)\n",
    "        self.k_linear = qml.qnn.TorchLayer(self.qlayer, self.weight_shapes)\n",
    "        self.q_linear = qml.qnn.TorchLayer(self.qlayer, self.weight_shapes)\n",
    "        self.v_linear = qml.qnn.TorchLayer(self.qlayer, self.weight_shapes)\n",
    "        self.combine_heads = qml.qnn.TorchLayer(self.qlayer, self.weight_shapes)\n",
    "        print(\"after TorchLayer: \", self.k_linear, self.q_linear,self.v_linear)\n",
    "        print(\"self.combine_heads: \",self.combine_heads)\n",
    "        \n",
    "    def forward(self, x, mask=None):\n",
    "        batch_size, seq_len, embed_dim = x.size()\n",
    "        assert embed_dim == self.embed_dim, f\"Input embedding ({embed_dim}) does not match layer embedding size ({self.embed_dim})\"\n",
    "\n",
    "        K = [self.k_linear(x[:, t, :]) for t in range(seq_len)]\n",
    "        Q = [self.q_linear(x[:, t, :]) for t in range(seq_len)]\n",
    "        V = [self.v_linear(x[:, t, :]) for t in range(seq_len)]\n",
    "        print(\"KQV\", len(K),K[0].size())\n",
    "        K = torch.Tensor(pad_sequence(K))\n",
    "        Q = torch.Tensor(pad_sequence(Q))\n",
    "        V = torch.Tensor(pad_sequence(V))\n",
    "\n",
    "        x = self.downstream(Q, K, V, batch_size, mask)\n",
    "        print(x.size())\n",
    "        output = [self.combine_heads(x[:, t, :]) for t in range(seq_len)]\n",
    "        output = torch.Tensor(pad_sequence(output))\n",
    "        return output"
   ]
  },
  {
   "cell_type": "code",
   "execution_count": 5,
   "metadata": {
    "code_folding": []
   },
   "outputs": [],
   "source": [
    "class MultiHeadAttentionQuantum_qiskit(MultiHeadAttentionBase):\n",
    "    def __init__(self,\n",
    "                 embed_dim: int,\n",
    "                 num_heads: int,\n",
    "                 dropout=0.1,\n",
    "                 mask=None,\n",
    "                 use_bias=False,\n",
    "                 n_qubits: int = 4,\n",
    "                 n_qlayers: int = 1,\n",
    "                 q_device=\"default.qubit\",\n",
    "                 ansatz_id=1):\n",
    "        super(MultiHeadAttentionQuantum_qiskit, self).__init__(embed_dim, num_heads, dropout=dropout, mask=mask, use_bias=use_bias)\n",
    "        \n",
    "        # todo: add intermediate layer to \"dress\" quantum circuit\n",
    "        assert n_qubits == embed_dim, \"Number of qubits ({n_qubits}) does not match embedding dim ({embed_dim})\"\n",
    "\n",
    "        self.n_qubits = n_qubits\n",
    "        self.n_qlayers = n_qlayers\n",
    "        self.q_device = q_device\n",
    "        self.ansatz_id = ansatz_id\n",
    "        if 'qulacs' in q_device:\n",
    "            self.dev = qml.device(q_device, wires=self.n_qubits, gpu=True)\n",
    "        elif 'braket' in q_device:\n",
    "            self.dev = qml.device(q_device, wires=self.n_qubits, parallel=True)\n",
    "        else:\n",
    "            self.dev = qml.device(q_device, wires=self.n_qubits)\n",
    "\n",
    "\n",
    "        if ansatz_id==1:\n",
    "#             def _circuit(inputs, weights):\n",
    "#                 qml.templates.AngleEmbedding(inputs, wires=range(self.n_qubits))\n",
    "#                 qml.templates.BasicEntanglerLayers(weights, wires=range(n_qubits))\n",
    "#                 return [qml.expval(qml.PauliZ(wires=i)) for i in range(n_qubits)]\n",
    "            qc_encode = TwoLocal(\n",
    "                num_qubits=self.n_qubits,\n",
    "                rotation_blocks=[\"rx\"],\n",
    "                reps=1,\n",
    "                parameter_prefix = \"x\",\n",
    "                skip_final_rotation_layer=True,\n",
    "            )#.bind_parameters(inputs)\n",
    "            qc_weight = TwoLocal(\n",
    "                num_qubits=self.n_qubits,\n",
    "                rotation_blocks=[\"rx\"],\n",
    "                entanglement_blocks=\"cx\",\n",
    "                entanglement=\"circular\",\n",
    "                reps=self.n_qlayers, # if input encoding is also repeated, fix this line\n",
    "                skip_final_rotation_layer=True,\n",
    "                parameter_prefix = \"w\",\n",
    "            )#.bind_parameters(weights.reshape(-1))\n",
    "            \n",
    "            qc_sfn1 = StateFn(qc_encode.compose(qc_weight))\n",
    "            op3 = ListOp(\n",
    "                [\n",
    "                    ~StateFn(PauliSumOp.from_list([(\"I\" * i + \"Z\" + \"I\" * (self.n_qubits - i - 1), 1)]))@qc_sfn1\n",
    "                    for i in range(self.n_qubits)\n",
    "                ]\n",
    "            )\n",
    "\n",
    "#             params1 = [Parameter('input1'), Parameter('weight1')]\n",
    "            params_in = [p for p in qc_sfn1.parameters if \"x\" in p.name]\n",
    "            params_in = sorted(params_in, key=lambda p: p.name)\n",
    "            params_weight = [p for p in qc_sfn1.parameters if \"w\" in p.name]\n",
    "            params_weight = sorted(params_weight, key=lambda p: p.name)\n",
    "            \n",
    "            qnn4 = OpflowQNN(op3, params_in, params_weight,  gradient=Gradient(),exp_val=AerPauliExpectation(), quantum_instance=qi)\n",
    "\n",
    "#             qnn4 = TwoLayerQNN(self.n_qubits, qc_encode, qc_weight, input_gradients=True, exp_val=AerPauliExpectation(), quantum_instance=qi)\n",
    "#         self.qlayer = qml.QNode(_circuit, self.dev, interface=\"torch\")\n",
    "\n",
    "        elif ansatz_id==2:\n",
    "            def _circuit(inputs, weights):\n",
    "                for i in range(len(inputs)):\n",
    "                    qml.Hadamard(wires=i)\n",
    "                inputs_arctan1 = np.arctan(inputs)\n",
    "                inputs_arctan2 = np.arctan(inputs**2)\n",
    "                qml.templates.AngleEmbedding(inputs_arctan1, wires=range(n_qubits),rotation='Y')\n",
    "                qml.templates.AngleEmbedding(inputs_arctan2, wires=range(n_qubits),rotation='Z')\n",
    "                for w in range(weights.shape[0]):\n",
    "                    qml.broadcast(qml.CNOT,wires=range(n_qubits),pattern=\"ring\")\n",
    "                for i in range(len(inputs)):\n",
    "                    qml.CNOT(wires=[i, (i+2)%len(inputs)])\n",
    "                qml.templates.AngleEmbedding(weights[w], wires=range(n_qubits),rotation='Y')\n",
    "                 \n",
    "                return [qml.expval(qml.PauliZ(wires=i)) for i in range(n_qubits)]\n",
    "\n",
    "#         self.qlayer = qml.QNode(_circuit, self.dev, interface=\"torch\")\n",
    "#         self.qlayer = TorchConnector(qnn4)\n",
    "        self.weight_shapes = {\"weights\": (n_qlayers, n_qubits)}\n",
    "        print(f\"weight_shapes = (n_qlayers, n_qubits) = ({n_qlayers}, {self.n_qubits})\")\n",
    "\n",
    "        print(\"before TorchLayer: \", self.k_linear, self.q_linear,self.v_linear)\n",
    "#         print(\"self.qlayer, self.weight_shapes\",self.qlayer, self.weight_shapes)\n",
    "#         self.k_linear = qml.qnn.TorchLayer(self.qlayer, self.weight_shapes)\n",
    "#         self.q_linear = qml.qnn.TorchLayer(self.qlayer, self.weight_shapes)\n",
    "#         self.v_linear = qml.qnn.TorchLayer(self.qlayer, self.weight_shapes)\n",
    "#         self.combine_heads = qml.qnn.TorchLayer(self.qlayer, self.weight_shapes)\n",
    "        self.k_linear =  TorchConnector(qnn4)\n",
    "        self.q_linear =  TorchConnector(qnn4)\n",
    "        self.v_linear =  TorchConnector(qnn4)\n",
    "        self.combine_heads =  TorchConnector(qnn4)\n",
    "        print(\"after TorchLayer: \", self.k_linear, self.q_linear,self.v_linear)\n",
    "        print(\"self.combine_heads: \",self.combine_heads)\n",
    "        \n",
    "    def forward(self, x, mask=None):\n",
    "        batch_size, seq_len, embed_dim = x.size()\n",
    "        assert embed_dim == self.embed_dim, f\"Input embedding ({embed_dim}) does not match layer embedding size ({self.embed_dim})\"\n",
    "\n",
    "        K = [self.k_linear(x[:, t, :]) for t in range(seq_len)]\n",
    "        Q = [self.q_linear(x[:, t, :]) for t in range(seq_len)]\n",
    "        V = [self.v_linear(x[:, t, :]) for t in range(seq_len)]\n",
    "        print(\"KQV\", len(K),K[0].size())\n",
    "        K = torch.Tensor(pad_sequence(K))\n",
    "        Q = torch.Tensor(pad_sequence(Q))\n",
    "        V = torch.Tensor(pad_sequence(V))\n",
    "\n",
    "        x = self.downstream(Q, K, V, batch_size, mask)\n",
    "        print(\"x size\",x.size())\n",
    "        output = [self.combine_heads(x[:, t, :]) for t in range(seq_len)]\n",
    "        output = torch.Tensor(pad_sequence(output))\n",
    "        return output"
   ]
  },
  {
   "cell_type": "code",
   "execution_count": 6,
   "metadata": {
    "scrolled": true
   },
   "outputs": [
    {
     "name": "stdout",
     "output_type": "stream",
     "text": [
      "<class 'torch.Tensor'>\n",
      "<class 'torch.Tensor'>\n",
      "tensor([[[0.0000]],\n",
      "\n",
      "        [[0.1282]],\n",
      "\n",
      "        [[0.2565]],\n",
      "\n",
      "        [[0.3847]],\n",
      "\n",
      "        [[0.5129]],\n",
      "\n",
      "        [[0.6411]],\n",
      "\n",
      "        [[0.7694]],\n",
      "\n",
      "        [[0.8976]],\n",
      "\n",
      "        [[1.0258]],\n",
      "\n",
      "        [[1.1541]],\n",
      "\n",
      "        [[1.2823]],\n",
      "\n",
      "        [[1.4105]],\n",
      "\n",
      "        [[1.5387]],\n",
      "\n",
      "        [[1.6670]],\n",
      "\n",
      "        [[1.7952]],\n",
      "\n",
      "        [[1.9234]],\n",
      "\n",
      "        [[2.0517]],\n",
      "\n",
      "        [[2.1799]],\n",
      "\n",
      "        [[2.3081]],\n",
      "\n",
      "        [[2.4363]],\n",
      "\n",
      "        [[2.5646]],\n",
      "\n",
      "        [[2.6928]],\n",
      "\n",
      "        [[2.8210]],\n",
      "\n",
      "        [[2.9493]],\n",
      "\n",
      "        [[3.0775]],\n",
      "\n",
      "        [[3.2057]],\n",
      "\n",
      "        [[3.3339]],\n",
      "\n",
      "        [[3.4622]],\n",
      "\n",
      "        [[3.5904]],\n",
      "\n",
      "        [[3.7186]],\n",
      "\n",
      "        [[3.8468]],\n",
      "\n",
      "        [[3.9751]],\n",
      "\n",
      "        [[4.1033]],\n",
      "\n",
      "        [[4.2315]],\n",
      "\n",
      "        [[4.3598]],\n",
      "\n",
      "        [[4.4880]],\n",
      "\n",
      "        [[4.6162]],\n",
      "\n",
      "        [[4.7444]],\n",
      "\n",
      "        [[4.8727]],\n",
      "\n",
      "        [[5.0009]],\n",
      "\n",
      "        [[5.1291]],\n",
      "\n",
      "        [[5.2574]],\n",
      "\n",
      "        [[5.3856]],\n",
      "\n",
      "        [[5.5138]],\n",
      "\n",
      "        [[5.6420]],\n",
      "\n",
      "        [[5.7703]],\n",
      "\n",
      "        [[5.8985]],\n",
      "\n",
      "        [[6.0267]],\n",
      "\n",
      "        [[6.1550]],\n",
      "\n",
      "        [[6.2832]]])\n"
     ]
    },
    {
     "name": "stderr",
     "output_type": "stream",
     "text": [
      "/Users/y.n./.pyenv/versions/anaconda3-2020.02/lib/python3.7/site-packages/torch/tensor.py:474: UserWarning: non-inplace resize is deprecated\n",
      "  warnings.warn(\"non-inplace resize is deprecated\")\n"
     ]
    }
   ],
   "source": [
    "torch.manual_seed(0)\n",
    "batch_size, seq_len, embed_dim  = 50, 1, 1\n",
    "randarray = torch.rand(batch_size, seq_len, embed_dim)*2*np.pi\n",
    "print(type(randarray))\n",
    "# randarray,ind = torch.sort(randarray,dim=0)\n",
    "randarray = torch.linspace(0, 2*np.pi, steps=batch_size).resize(batch_size, seq_len, embed_dim)\n",
    "print(type(randarray))\n",
    "print(randarray)"
   ]
  },
  {
   "cell_type": "code",
   "execution_count": 7,
   "metadata": {},
   "outputs": [
    {
     "name": "stdout",
     "output_type": "stream",
     "text": [
      "weight_shapes = (n_qlayers, n_qubits) = (1, 1)\n",
      "before TorchLayer:  None None None\n",
      "after TorchLayer:  <Quantum Torch Layer: func=_circuit> <Quantum Torch Layer: func=_circuit> <Quantum Torch Layer: func=_circuit>\n",
      "self.combine_heads:  <Quantum Torch Layer: func=_circuit>\n",
      "KQV 1 torch.Size([50, 1])\n",
      "torch.Size([50, 1, 1])\n"
     ]
    },
    {
     "data": {
      "text/plain": [
       "tensor([[[-0.9975]],\n",
       "\n",
       "        [[-0.9784]],\n",
       "\n",
       "        [[-0.9396]],\n",
       "\n",
       "        [[-0.8815]],\n",
       "\n",
       "        [[-0.8062]],\n",
       "\n",
       "        [[-0.7172]],\n",
       "\n",
       "        [[-0.6192]],\n",
       "\n",
       "        [[-0.5170]],\n",
       "\n",
       "        [[-0.4160]],\n",
       "\n",
       "        [[-0.3206]],\n",
       "\n",
       "        [[-0.2350]],\n",
       "\n",
       "        [[-0.1623]],\n",
       "\n",
       "        [[-0.1048]],\n",
       "\n",
       "        [[-0.0639]],\n",
       "\n",
       "        [[-0.0408]],\n",
       "\n",
       "        [[-0.0357]],\n",
       "\n",
       "        [[-0.0489]],\n",
       "\n",
       "        [[-0.0801]],\n",
       "\n",
       "        [[-0.1285]],\n",
       "\n",
       "        [[-0.1931]],\n",
       "\n",
       "        [[-0.2719]],\n",
       "\n",
       "        [[-0.3623]],\n",
       "\n",
       "        [[-0.4607]],\n",
       "\n",
       "        [[-0.5629]],\n",
       "\n",
       "        [[-0.6638]],\n",
       "\n",
       "        [[-0.7584]],\n",
       "\n",
       "        [[-0.8418]],\n",
       "\n",
       "        [[-0.9097]],\n",
       "\n",
       "        [[-0.9594]],\n",
       "\n",
       "        [[-0.9893]],\n",
       "\n",
       "        [[-0.9999]],\n",
       "\n",
       "        [[-0.9931]],\n",
       "\n",
       "        [[-0.9720]],\n",
       "\n",
       "        [[-0.9408]],\n",
       "\n",
       "        [[-0.9039]],\n",
       "\n",
       "        [[-0.8659]],\n",
       "\n",
       "        [[-0.8309]],\n",
       "\n",
       "        [[-0.8023]],\n",
       "\n",
       "        [[-0.7827]],\n",
       "\n",
       "        [[-0.7738]],\n",
       "\n",
       "        [[-0.7764]],\n",
       "\n",
       "        [[-0.9113]],\n",
       "\n",
       "        [[-0.8141]],\n",
       "\n",
       "        [[-0.8460]],\n",
       "\n",
       "        [[-0.8828]],\n",
       "\n",
       "        [[-0.9208]],\n",
       "\n",
       "        [[-0.9557]],\n",
       "\n",
       "        [[-0.9830]],\n",
       "\n",
       "        [[-0.9981]],\n",
       "\n",
       "        [[-0.9975]]], grad_fn=<SliceBackward>)"
      ]
     },
     "execution_count": 7,
     "metadata": {},
     "output_type": "execute_result"
    }
   ],
   "source": [
    "qubit_num = 3\n",
    "qmodel_t = MultiHeadAttentionQuantum(embed_dim=embed_dim, num_heads=embed_dim, n_qubits =embed_dim)\n",
    "\n",
    "val_t = qmodel_t.forward(randarray)\n",
    "val_t"
   ]
  },
  {
   "cell_type": "code",
   "execution_count": 8,
   "metadata": {},
   "outputs": [
    {
     "data": {
      "text/plain": [
       "tensor([[[[1.1111]]],\n",
       "\n",
       "\n",
       "        [[[1.1111]]],\n",
       "\n",
       "\n",
       "        [[[1.1111]]],\n",
       "\n",
       "\n",
       "        [[[1.1111]]],\n",
       "\n",
       "\n",
       "        [[[1.1111]]],\n",
       "\n",
       "\n",
       "        [[[1.1111]]],\n",
       "\n",
       "\n",
       "        [[[1.1111]]],\n",
       "\n",
       "\n",
       "        [[[1.1111]]],\n",
       "\n",
       "\n",
       "        [[[1.1111]]],\n",
       "\n",
       "\n",
       "        [[[1.1111]]],\n",
       "\n",
       "\n",
       "        [[[1.1111]]],\n",
       "\n",
       "\n",
       "        [[[1.1111]]],\n",
       "\n",
       "\n",
       "        [[[1.1111]]],\n",
       "\n",
       "\n",
       "        [[[1.1111]]],\n",
       "\n",
       "\n",
       "        [[[1.1111]]],\n",
       "\n",
       "\n",
       "        [[[1.1111]]],\n",
       "\n",
       "\n",
       "        [[[1.1111]]],\n",
       "\n",
       "\n",
       "        [[[1.1111]]],\n",
       "\n",
       "\n",
       "        [[[1.1111]]],\n",
       "\n",
       "\n",
       "        [[[1.1111]]],\n",
       "\n",
       "\n",
       "        [[[1.1111]]],\n",
       "\n",
       "\n",
       "        [[[1.1111]]],\n",
       "\n",
       "\n",
       "        [[[1.1111]]],\n",
       "\n",
       "\n",
       "        [[[1.1111]]],\n",
       "\n",
       "\n",
       "        [[[1.1111]]],\n",
       "\n",
       "\n",
       "        [[[1.1111]]],\n",
       "\n",
       "\n",
       "        [[[1.1111]]],\n",
       "\n",
       "\n",
       "        [[[1.1111]]],\n",
       "\n",
       "\n",
       "        [[[1.1111]]],\n",
       "\n",
       "\n",
       "        [[[1.1111]]],\n",
       "\n",
       "\n",
       "        [[[1.1111]]],\n",
       "\n",
       "\n",
       "        [[[1.1111]]],\n",
       "\n",
       "\n",
       "        [[[1.1111]]],\n",
       "\n",
       "\n",
       "        [[[1.1111]]],\n",
       "\n",
       "\n",
       "        [[[1.1111]]],\n",
       "\n",
       "\n",
       "        [[[1.1111]]],\n",
       "\n",
       "\n",
       "        [[[1.1111]]],\n",
       "\n",
       "\n",
       "        [[[1.1111]]],\n",
       "\n",
       "\n",
       "        [[[1.1111]]],\n",
       "\n",
       "\n",
       "        [[[1.1111]]],\n",
       "\n",
       "\n",
       "        [[[1.1111]]],\n",
       "\n",
       "\n",
       "        [[[0.0000]]],\n",
       "\n",
       "\n",
       "        [[[1.1111]]],\n",
       "\n",
       "\n",
       "        [[[1.1111]]],\n",
       "\n",
       "\n",
       "        [[[1.1111]]],\n",
       "\n",
       "\n",
       "        [[[1.1111]]],\n",
       "\n",
       "\n",
       "        [[[1.1111]]],\n",
       "\n",
       "\n",
       "        [[[1.1111]]],\n",
       "\n",
       "\n",
       "        [[[1.1111]]],\n",
       "\n",
       "\n",
       "        [[[1.1111]]]], grad_fn=<MulBackward0>)"
      ]
     },
     "execution_count": 8,
     "metadata": {},
     "output_type": "execute_result"
    }
   ],
   "source": [
    "qmodel_t.attn_weights#.size()"
   ]
  },
  {
   "cell_type": "code",
   "execution_count": 118,
   "metadata": {},
   "outputs": [],
   "source": [
    "# qmodel_t_ibm.attn_weights = qmodel_t.attn_weights\n",
    "# qmodel_t_ibm.forward(randarray)\n",
    "# qmodel_t_ibm.attn_weights#.size()"
   ]
  },
  {
   "cell_type": "code",
   "execution_count": 130,
   "metadata": {},
   "outputs": [
    {
     "name": "stdout",
     "output_type": "stream",
     "text": [
      "weight_shapes = (n_qlayers, n_qubits) = (1, 1)\n",
      "before TorchLayer:  None None None\n",
      "after TorchLayer:  TorchConnector() TorchConnector() TorchConnector()\n",
      "self.combine_heads:  TorchConnector()\n",
      "KQV 1 torch.Size([50, 1])\n",
      "x size torch.Size([50, 1, 1])\n",
      "KQV 1 torch.Size([50, 1])\n",
      "x size torch.Size([50, 1, 1])\n",
      "KQV 1 torch.Size([50, 1])\n",
      "x size torch.Size([50, 1, 1])\n"
     ]
    },
    {
     "data": {
      "text/plain": [
       "tensor([[[0.5972]],\n",
       "\n",
       "        [[0.5852]],\n",
       "\n",
       "        [[0.5880]],\n",
       "\n",
       "        [[0.6053]],\n",
       "\n",
       "        [[0.6362]],\n",
       "\n",
       "        [[0.6788]],\n",
       "\n",
       "        [[0.7304]],\n",
       "\n",
       "        [[0.9865]],\n",
       "\n",
       "        [[0.8459]],\n",
       "\n",
       "        [[0.9008]],\n",
       "\n",
       "        [[0.9474]],\n",
       "\n",
       "        [[0.9812]],\n",
       "\n",
       "        [[0.9984]],\n",
       "\n",
       "        [[0.9964]],\n",
       "\n",
       "        [[0.9744]],\n",
       "\n",
       "        [[0.9330]],\n",
       "\n",
       "        [[0.8747]],\n",
       "\n",
       "        [[0.9865]],\n",
       "\n",
       "        [[0.7227]],\n",
       "\n",
       "        [[0.6388]],\n",
       "\n",
       "        [[0.5562]],\n",
       "\n",
       "        [[0.4796]],\n",
       "\n",
       "        [[0.4126]],\n",
       "\n",
       "        [[0.3585]],\n",
       "\n",
       "        [[0.3193]],\n",
       "\n",
       "        [[0.2966]],\n",
       "\n",
       "        [[0.2912]],\n",
       "\n",
       "        [[0.3031]],\n",
       "\n",
       "        [[0.3321]],\n",
       "\n",
       "        [[0.3770]],\n",
       "\n",
       "        [[0.4362]],\n",
       "\n",
       "        [[0.5072]],\n",
       "\n",
       "        [[0.9865]],\n",
       "\n",
       "        [[0.9865]],\n",
       "\n",
       "        [[0.7533]],\n",
       "\n",
       "        [[0.8310]],\n",
       "\n",
       "        [[0.8982]],\n",
       "\n",
       "        [[0.9506]],\n",
       "\n",
       "        [[0.9850]],\n",
       "\n",
       "        [[0.9995]],\n",
       "\n",
       "        [[0.9941]],\n",
       "\n",
       "        [[0.9704]],\n",
       "\n",
       "        [[0.9313]],\n",
       "\n",
       "        [[0.8811]],\n",
       "\n",
       "        [[0.8243]],\n",
       "\n",
       "        [[0.7658]],\n",
       "\n",
       "        [[0.7103]],\n",
       "\n",
       "        [[0.6617]],\n",
       "\n",
       "        [[0.6232]],\n",
       "\n",
       "        [[0.5972]]], grad_fn=<SliceBackward>)"
      ]
     },
     "execution_count": 130,
     "metadata": {},
     "output_type": "execute_result"
    }
   ],
   "source": [
    "import os\n",
    "os.environ['QISKIT_IN_PARALLEL'] = 'TRUE'\n",
    "\n",
    "\n",
    "qmodel_t_ibm = MultiHeadAttentionQuantum_qiskit(embed_dim=embed_dim, num_heads=embed_dim, n_qubits =embed_dim)\n",
    "# qmodel_t_ibm.attn_weights = qmodel_t.attn_weights\n",
    "\n",
    "val_q = qmodel_t_ibm.forward(randarray)\n",
    "val_q = qmodel_t_ibm.forward(randarray)\n",
    "val_q = qmodel_t_ibm.forward(randarray)\n",
    "\n",
    "val_q"
   ]
  },
  {
   "cell_type": "code",
   "execution_count": 134,
   "metadata": {},
   "outputs": [
    {
     "name": "stdout",
     "output_type": "stream",
     "text": [
      "KQV 1 torch.Size([50, 1])\n",
      "x size torch.Size([50, 1, 1])\n",
      "KQV 1 torch.Size([50, 1])\n",
      "x size torch.Size([50, 1, 1])\n",
      "KQV 1 torch.Size([50, 1])\n",
      "x size torch.Size([50, 1, 1])\n"
     ]
    },
    {
     "data": {
      "text/plain": [
       "[<matplotlib.lines.Line2D at 0x7fbb6c353890>]"
      ]
     },
     "execution_count": 134,
     "metadata": {},
     "output_type": "execute_result"
    },
    {
     "data": {
      "image/png": "[encoded data removed]",
      "text/plain": [
       "<Figure size 432x288 with 1 Axes>"
      ]
     },
     "metadata": {
      "needs_background": "light"
     },
     "output_type": "display_data"
    }
   ],
   "source": [
    "plt.plot(randarray[:,0,0],val_t[:,0,0].detach().numpy())\n",
    "plt.plot(randarray[:,0,0],val_q[:,0,0].detach().numpy())"
   ]
  },
  {
   "cell_type": "code",
   "execution_count": 111,
   "metadata": {},
   "outputs": [
    {
     "data": {
      "text/plain": [
       "[<matplotlib.lines.Line2D at 0x7fbb88e68110>]"
      ]
     },
     "execution_count": 111,
     "metadata": {},
     "output_type": "execute_result"
    },
    {
     "data": {
      "image/png": "[encoded data removed]",
      "text/plain": [
       "<Figure size 432x288 with 1 Axes>"
      ]
     },
     "metadata": {
      "needs_background": "light"
     },
     "output_type": "display_data"
    }
   ],
   "source": [
    "val1_q = qmodel_t.combine_heads(randarray[:,:,0])\n",
    "val2_q = qmodel_t_ibm.combine_heads(randarray[:,:,0])\n",
    "plt.plot(randarray[:,0,0],val1_q[:].detach().numpy())\n",
    "plt.plot(randarray[:,0,0],val2_q[:].detach().numpy())"
   ]
  },
  {
   "cell_type": "code",
   "execution_count": null,
   "metadata": {},
   "outputs": [],
   "source": []
  },
  {
   "cell_type": "markdown",
   "metadata": {},
   "source": [
    "# debug"
   ]
  },
  {
   "cell_type": "code",
   "execution_count": 7,
   "metadata": {},
   "outputs": [
    {
     "name": "stdout",
     "output_type": "stream",
     "text": [
      "1.0 * ZZZ\n",
      "+ 1.0 * YYY\n",
      "ListOp([\n",
      "  1.0 * ZZZ\n",
      "  + 1.0 * YYY,\n",
      "  1.0 * ZZZ\n",
      "  + 1.0 * YYY\n",
      "])\n"
     ]
    }
   ],
   "source": [
    "num_qubits = 3\n",
    "observable = PauliSumOp.from_list([('Z'*num_qubits, 1),('Y'*num_qubits, 1)])\n",
    "print(observable)\n",
    "op2 = ListOp([observable, observable])\n",
    "print(op2)"
   ]
  },
  {
   "cell_type": "code",
   "execution_count": 114,
   "metadata": {},
   "outputs": [],
   "source": []
  },
  {
   "cell_type": "code",
   "execution_count": 12,
   "metadata": {},
   "outputs": [
    {
     "name": "stderr",
     "output_type": "stream",
     "text": [
      "WARNING:qiskit_machine_learning.neural_networks.opflow_qnn:Cannot compute gradient operator! Continuing without gradients!\n"
     ]
    },
    {
     "data": {
      "text/plain": [
       "TorchConnector()"
      ]
     },
     "execution_count": 12,
     "metadata": {},
     "output_type": "execute_result"
    }
   ],
   "source": [
    "n_qubits=3\n",
    "n_qlayers=2\n",
    "\n",
    "qc_encode = TwoLocal(\n",
    "    num_qubits=n_qubits,\n",
    "    rotation_blocks=[\"rx\"],\n",
    "    reps=1,\n",
    "    parameter_prefix = \"x\",\n",
    "    skip_final_rotation_layer=True,\n",
    ")#.bind_parameters(inputs)\n",
    "qc_weight = TwoLocal(\n",
    "    num_qubits=n_qubits,\n",
    "    rotation_blocks=[\"rx\"],\n",
    "    entanglement_blocks=\"cx\",\n",
    "    entanglement=\"circular\",\n",
    "    reps=n_qlayers, # if input encoding is also repeated, fix this line\n",
    "    skip_final_rotation_layer=True,\n",
    ")#.bind_parameters(weights.reshape(-1))\n",
    "\n",
    "\n",
    "qc_sfn1 = StateFn(qc_encode.compose(qc_weight))\n",
    "\n",
    "op3 = ListOp(\n",
    "    [\n",
    "#         ~StateFn(PauliSumOp.from_list([(\"I\" * i + \"Z\" + \"I\" * (num_qubits - i - 1), 1)]))@qc_sfn1\n",
    "        PauliSumOp.from_list([(\"I\" * i + \"Z\" + \"I\" * (n_qubits - i - 1), 1)])\n",
    "#         PauliSumOp.from_list([(\"Z\"*num_qubits, 1)]) # debug\n",
    "        for i in range(n_qubits)\n",
    "    ]\n",
    ")\n",
    "\n",
    "qnn4 = TwoLayerQNN(n_qubits, qc_encode, qc_weight, input_gradients=True, exp_val=AerPauliExpectation(), quantum_instance=qi,observable=op3)\n",
    "\n",
    "TorchConnector(qnn4)"
   ]
  },
  {
   "cell_type": "code",
   "execution_count": 14,
   "metadata": {},
   "outputs": [
    {
     "ename": "NameError",
     "evalue": "name 'params1' is not defined",
     "output_type": "error",
     "traceback": [
      "\u001b[0;31m---------------------------------------------------------------------------\u001b[0m",
      "\u001b[0;31mNameError\u001b[0m                                 Traceback (most recent call last)",
      "\u001b[0;32m<ipython-input-14-46423c293066>\u001b[0m in \u001b[0;36m<module>\u001b[0;34m\u001b[0m\n\u001b[1;32m      8\u001b[0m )\n\u001b[1;32m      9\u001b[0m \u001b[0;34m\u001b[0m\u001b[0m\n\u001b[0;32m---> 10\u001b[0;31m \u001b[0mqnn5\u001b[0m \u001b[0;34m=\u001b[0m \u001b[0mOpflowQNN\u001b[0m\u001b[0;34m(\u001b[0m\u001b[0mop3\u001b[0m\u001b[0;34m,\u001b[0m \u001b[0;34m[\u001b[0m\u001b[0mparams1\u001b[0m\u001b[0;34m[\u001b[0m\u001b[0;36m0\u001b[0m\u001b[0;34m]\u001b[0m\u001b[0;34m]\u001b[0m\u001b[0;34m,\u001b[0m \u001b[0;34m[\u001b[0m\u001b[0mparams1\u001b[0m\u001b[0;34m[\u001b[0m\u001b[0;36m1\u001b[0m\u001b[0;34m]\u001b[0m\u001b[0;34m]\u001b[0m\u001b[0;34m,\u001b[0m  \u001b[0mgradient\u001b[0m\u001b[0;34m=\u001b[0m\u001b[0mGradient\u001b[0m\u001b[0;34m(\u001b[0m\u001b[0;34m)\u001b[0m\u001b[0;34m,\u001b[0m\u001b[0mexp_val\u001b[0m\u001b[0;34m=\u001b[0m\u001b[0mAerPauliExpectation\u001b[0m\u001b[0;34m(\u001b[0m\u001b[0;34m)\u001b[0m\u001b[0;34m,\u001b[0m \u001b[0mquantum_instance\u001b[0m\u001b[0;34m=\u001b[0m\u001b[0mqi\u001b[0m\u001b[0;34m)\u001b[0m\u001b[0;34m\u001b[0m\u001b[0;34m\u001b[0m\u001b[0m\n\u001b[0m\u001b[1;32m     11\u001b[0m \u001b[0mprint\u001b[0m\u001b[0;34m(\u001b[0m\u001b[0mqnn5\u001b[0m\u001b[0;34m.\u001b[0m\u001b[0moperator\u001b[0m\u001b[0;34m)\u001b[0m\u001b[0;34m\u001b[0m\u001b[0;34m\u001b[0m\u001b[0m\n",
      "\u001b[0;31mNameError\u001b[0m: name 'params1' is not defined"
     ]
    }
   ],
   "source": [
    "op3 = ListOp(\n",
    "    [\n",
    "        ~StateFn(PauliSumOp.from_list([(\"I\" * i + \"Z\" + \"I\" * (n_qubits - i - 1), 1)]))@qc_sfn1\n",
    "#         PauliSumOp.from_list([(\"I\" * i + \"Z\" + \"I\" * (num_qubits - i - 1), 1)])\n",
    "#         PauliSumOp.from_list([(\"Z\"*num_qubits, 1)]) # debug\n",
    "        for i in range(n_qubits)\n",
    "    ]\n",
    ")\n",
    "\n",
    "qnn5 = OpflowQNN(op3, [params1[0]], [params1[1]],  gradient=Gradient(),exp_val=AerPauliExpectation(), quantum_instance=qi)\n",
    "print(qnn5.operator)"
   ]
  },
  {
   "cell_type": "code",
   "execution_count": 27,
   "metadata": {},
   "outputs": [
    {
     "data": {
      "text/plain": [
       "'θ[5]'"
      ]
     },
     "execution_count": 27,
     "metadata": {},
     "output_type": "execute_result"
    }
   ],
   "source": [
    "dir(qc_sfn1)\n",
    "params = list(qc_sfn1.parameters)\n",
    "params[0].name\n",
    "# dir(params[0])\n",
    "# params"
   ]
  },
  {
   "cell_type": "code",
   "execution_count": 112,
   "metadata": {},
   "outputs": [],
   "source": [
    "op2 = ListOp([op1, op1])\n",
    "qnn2 = OpflowQNN(op1, [params1[0]], [params1[1]], expval, gradient, qi_sv)\n"
   ]
  },
  {
   "cell_type": "code",
   "execution_count": 77,
   "metadata": {},
   "outputs": [],
   "source": [
    "params1 = [Parameter('input1'), Parameter('weight1')]\n",
    "\n",
    "gradient=Gradient()\n",
    "qnn2 = OpflowQNN(op2, [params1[0]], [params1[1]],  gradient=Gradient(),exp_val=AerPauliExpectation(), quantum_instance=qi)"
   ]
  },
  {
   "cell_type": "code",
   "execution_count": 116,
   "metadata": {},
   "outputs": [
    {
     "name": "stdout",
     "output_type": "stream",
     "text": [
      "ComposedOp([\n",
      "  OperatorMeasurement(ListOp([\n",
      "    ComposedOp([\n",
      "      CircuitMeasurement(\n",
      "           ┌─────────────────────────────────────────────┐»\n",
      "      q_0: ┤0                                            ├»\n",
      "           │                                             │»\n",
      "      q_1: ┤1 TwoLocal_dg(θ[0],θ[1],θ[2],θ[3],θ[4],θ[5]) ├»\n",
      "           │                                             │»\n",
      "      q_2: ┤2                                            ├»\n",
      "           └─────────────────────────────────────────────┘»\n",
      "      «     ┌──────────────────────────────┐\n",
      "      «q_0: ┤0                             ├\n",
      "      «     │                              │\n",
      "      «q_1: ┤1 TwoLocal_dg(x[0],x[1],x[2]) ├\n",
      "      «     │                              │\n",
      "      «q_2: ┤2                             ├\n",
      "      «     └──────────────────────────────┘\n",
      "      ),\n",
      "      OperatorStateFn(1.0 * ZII)\n",
      "    ]),\n",
      "    ComposedOp([\n",
      "      CircuitMeasurement(\n",
      "           ┌─────────────────────────────────────────────┐»\n",
      "      q_0: ┤0                                            ├»\n",
      "           │                                             │»\n",
      "      q_1: ┤1 TwoLocal_dg(θ[0],θ[1],θ[2],θ[3],θ[4],θ[5]) ├»\n",
      "           │                                             │»\n",
      "      q_2: ┤2                                            ├»\n",
      "           └─────────────────────────────────────────────┘»\n",
      "      «     ┌──────────────────────────────┐\n",
      "      «q_0: ┤0                             ├\n",
      "      «     │                              │\n",
      "      «q_1: ┤1 TwoLocal_dg(x[0],x[1],x[2]) ├\n",
      "      «     │                              │\n",
      "      «q_2: ┤2                             ├\n",
      "      «     └──────────────────────────────┘\n",
      "      ),\n",
      "      OperatorStateFn(1.0 * IZI)\n",
      "    ]),\n",
      "    ComposedOp([\n",
      "      CircuitMeasurement(\n",
      "           ┌─────────────────────────────────────────────┐»\n",
      "      q_0: ┤0                                            ├»\n",
      "           │                                             │»\n",
      "      q_1: ┤1 TwoLocal_dg(θ[0],θ[1],θ[2],θ[3],θ[4],θ[5]) ├»\n",
      "           │                                             │»\n",
      "      q_2: ┤2                                            ├»\n",
      "           └─────────────────────────────────────────────┘»\n",
      "      «     ┌──────────────────────────────┐\n",
      "      «q_0: ┤0                             ├\n",
      "      «     │                              │\n",
      "      «q_1: ┤1 TwoLocal_dg(x[0],x[1],x[2]) ├\n",
      "      «     │                              │\n",
      "      «q_2: ┤2                             ├\n",
      "      «     └──────────────────────────────┘\n",
      "      ),\n",
      "      OperatorStateFn(1.0 * IIZ)\n",
      "    ])\n",
      "  ])),\n",
      "  CircuitStateFn(\n",
      "       ┌───────────────────────────┐┌──────────────────────────────────────────┐\n",
      "  q_0: ┤0                          ├┤0                                         ├\n",
      "       │                           ││                                          │\n",
      "  q_1: ┤1 TwoLocal(x[0],x[1],x[2]) ├┤1 TwoLocal(θ[0],θ[1],θ[2],θ[3],θ[4],θ[5]) ├\n",
      "       │                           ││                                          │\n",
      "  q_2: ┤2                          ├┤2                                         ├\n",
      "       └───────────────────────────┘└──────────────────────────────────────────┘\n",
      "  )\n",
      "])\n"
     ]
    }
   ],
   "source": [
    "print(qnn4.operator)"
   ]
  },
  {
   "cell_type": "code",
   "execution_count": 72,
   "metadata": {},
   "outputs": [
    {
     "name": "stdout",
     "output_type": "stream",
     "text": [
      "ListOp([\n",
      "  1.0 * ZII,\n",
      "  1.0 * IZI,\n",
      "  1.0 * IIZ\n",
      "])\n"
     ]
    }
   ],
   "source": [
    "num_qubits = 3\n",
    "op3 = ListOp(\n",
    "    [\n",
    "        PauliSumOp.from_list([(\"I\" * i + \"Z\" + \"I\" * (num_qubits - i - 1), 1)])\n",
    "        for i in range(num_qubits)\n",
    "    ]\n",
    ")\n",
    "print(op3)"
   ]
  },
  {
   "cell_type": "code",
   "execution_count": 38,
   "metadata": {},
   "outputs": [
    {
     "ename": "NameError",
     "evalue": "name 'self' is not defined",
     "output_type": "error",
     "traceback": [
      "\u001b[0;31m---------------------------------------------------------------------------\u001b[0m",
      "\u001b[0;31mNameError\u001b[0m                                 Traceback (most recent call last)",
      "\u001b[0;32m<ipython-input-38-7fc43ca27dc0>\u001b[0m in \u001b[0;36m<module>\u001b[0;34m\u001b[0m\n\u001b[0;32m----> 1\u001b[0;31m \u001b[0mqml\u001b[0m\u001b[0;34m.\u001b[0m\u001b[0mqnn\u001b[0m\u001b[0;34m.\u001b[0m\u001b[0mTorchLayer\u001b[0m\u001b[0;34m(\u001b[0m\u001b[0mself\u001b[0m\u001b[0;34m.\u001b[0m\u001b[0mqlayer\u001b[0m\u001b[0;34m,\u001b[0m \u001b[0mself\u001b[0m\u001b[0;34m.\u001b[0m\u001b[0mweight_shapes\u001b[0m\u001b[0;34m)\u001b[0m\u001b[0;34m\u001b[0m\u001b[0;34m\u001b[0m\u001b[0m\n\u001b[0m",
      "\u001b[0;31mNameError\u001b[0m: name 'self' is not defined"
     ]
    }
   ],
   "source": [
    "qml.qnn.TorchLayer(self.qlayer, self.weight_shapes)"
   ]
  },
  {
   "cell_type": "code",
   "execution_count": 99,
   "metadata": {},
   "outputs": [
    {
     "name": "stdout",
     "output_type": "stream",
     "text": [
      "[-0.14257812 -0.140625  ]\n"
     ]
    },
    {
     "data": {
      "image/png": "[encoded data removed]",
      "text/plain": [
       "<Figure size 507.852x204.68 with 1 Axes>"
      ]
     },
     "execution_count": 99,
     "metadata": {},
     "output_type": "execute_result"
    }
   ],
   "source": [
    "n_qubits = 2\n",
    "inputs=np.random.rand(2)\n",
    "weights = np.random.rand(2,n_qubits)\n",
    "\n",
    "# print(qml.templates.AngleEmbedding(inputs, wires=range(n_qubits)))\n",
    "# print(qml.templates.BasicEntanglerLayers(weights, wires=range(n_qubits)))\n",
    "\n",
    "dev_2 = qml.device(\"qiskit.aer\", wires=n_qubits)\n",
    "@qml.qnode(dev_2)\n",
    "def _circuit_draw(inputs, weights):\n",
    "    qml.templates.AngleEmbedding(inputs, wires=range(n_qubits))\n",
    "    qml.templates.BasicEntanglerLayers(weights, wires=range(n_qubits))\n",
    "#     qml.templates.AngleEmbedding(inputs, wires=range(n_qubits),rotation='X')\n",
    "#     qml.templates.AngleEmbedding(inputs, wires=range(n_qubits),rotation='Y')\n",
    "#     qml.templates.BasicEntanglerLayers(weights, wires=range(n_qubits))\n",
    "    return [qml.expval(qml.PauliZ(wires=i)) for i in range(n_qubits)]\n",
    "\n",
    "print(_circuit_draw(inputs, weights)) \n",
    "dev_2._circuit.draw(\"mpl\",fold=1)"
   ]
  },
  {
   "cell_type": "code",
   "execution_count": null,
   "metadata": {},
   "outputs": [],
   "source": [
    "# qiskit\n",
    "#  output = [<Z1Z2>]   :|00>, |11> → <Z1Z2>=1\n",
    "# pennlyane\n",
    "# output [<Z1>, <Z2>] :  |00> → =[1,1] , |11> → =[-1,-1]"
   ]
  },
  {
   "cell_type": "code",
   "execution_count": null,
   "metadata": {},
   "outputs": [],
   "source": [
    "# <00|Z1Z2|00>=<00|00>=1\n",
    "# <11|Z1Z2|11>=<11|(-1)(-1)|11>=1\n",
    "# <01|Z1Z2|01>=<00|00>=1\n",
    "# <10|Z1Z2|10>=<11|(-1)(-1)|11>=1"
   ]
  },
  {
   "cell_type": "code",
   "execution_count": 100,
   "metadata": {
    "scrolled": true
   },
   "outputs": [
    {
     "data": {
      "text/plain": [
       "tensor([[ 0.0149,  0.0366, -0.0135],\n",
       "        [-0.0007, -0.0012,  0.0007],\n",
       "        [-0.0724, -0.3425,  0.0723],\n",
       "        [-0.0068, -0.0464,  0.0064],\n",
       "        [ 0.0965,  0.1397, -0.0833],\n",
       "        [ 0.1627,  0.1873, -0.1557],\n",
       "        [-0.1235, -0.1748,  0.1216],\n",
       "        [-0.0982, -0.4275,  0.0931],\n",
       "        [-0.1480, -0.3120,  0.1344],\n",
       "        [ 0.1345,  0.1736, -0.1210],\n",
       "        [-0.2254, -0.4124,  0.2246],\n",
       "        [ 0.1481,  0.2114, -0.1355],\n",
       "        [-0.2023, -0.2317,  0.1882],\n",
       "        [-0.4303, -0.4716,  0.3998],\n",
       "        [-0.2444, -0.3233,  0.2339],\n",
       "        [ 0.2495,  0.3335, -0.2477],\n",
       "        [-0.1020, -0.5472,  0.0957],\n",
       "        [ 0.1740,  0.2218, -0.1735],\n",
       "        [ 0.0089,  0.1474, -0.0087],\n",
       "        [-0.0858, -0.2231,  0.0857],\n",
       "        [ 0.2327,  0.3168, -0.2293],\n",
       "        [-0.0181, -0.0408,  0.0161],\n",
       "        [-0.0873, -0.1643,  0.0867],\n",
       "        [-0.3061, -0.5681,  0.2964],\n",
       "        [ 0.0750,  0.0959, -0.0749],\n",
       "        [-0.3440, -0.4012,  0.3365],\n",
       "        [-0.0321, -0.0539,  0.0309],\n",
       "        [ 0.0238,  0.0747, -0.0238],\n",
       "        [-0.1849, -0.5473,  0.1782],\n",
       "        [-0.4163, -0.5028,  0.3991],\n",
       "        [-0.1262, -0.3815,  0.1258],\n",
       "        [-0.0887, -0.5111,  0.0868],\n",
       "        [ 0.0465,  0.1307, -0.0438],\n",
       "        [ 0.1690,  0.2164, -0.1635],\n",
       "        [-0.1421, -0.3064,  0.1331],\n",
       "        [-0.0643, -0.1458,  0.0633],\n",
       "        [-0.0021, -0.1035,  0.0019],\n",
       "        [ 0.1233,  0.1991, -0.1212],\n",
       "        [-0.0138, -0.2003,  0.0130],\n",
       "        [ 0.0213,  0.0545, -0.0195],\n",
       "        [-0.3344, -0.3975,  0.3337],\n",
       "        [ 0.0479,  0.1096, -0.0473],\n",
       "        [ 0.0953,  0.3261, -0.0923],\n",
       "        [-0.0521, -0.3951,  0.0508],\n",
       "        [-0.1965, -0.5322,  0.1958],\n",
       "        [ 0.1047,  0.1279, -0.1046],\n",
       "        [-0.1257, -0.1669,  0.1253],\n",
       "        [ 0.0055,  0.0144, -0.0052],\n",
       "        [-0.1526, -0.3037,  0.1517],\n",
       "        [-0.2200, -0.3166,  0.1993]], grad_fn=<StackBackward>)"
      ]
     },
     "execution_count": 100,
     "metadata": {},
     "output_type": "execute_result"
    }
   ],
   "source": [
    "# qml.qnn.TorchLayer(qmodel_t.qlayer, qmodel_t.weight_shapes)(randarray[:,1,:])\n",
    "qmodel_t.k_linear(randarray[:,1,:])\n",
    "# plt.plot(qmodel_t.k_linear(randarray[:,1,:])[:,0].detach().numpy())"
   ]
  },
  {
   "cell_type": "code",
   "execution_count": 60,
   "metadata": {},
   "outputs": [
    {
     "data": {
      "text/plain": [
       "tensor([[ 0.5902],\n",
       "        [-0.1327],\n",
       "        [ 0.3538],\n",
       "        [ 0.2423],\n",
       "        [ 0.4627],\n",
       "        [-0.1106],\n",
       "        [ 0.6647],\n",
       "        [-0.1679],\n",
       "        [ 0.6680],\n",
       "        [ 0.0210],\n",
       "        [ 0.6670],\n",
       "        [-0.0299],\n",
       "        [-0.2316],\n",
       "        [ 0.5292],\n",
       "        [ 0.4983],\n",
       "        [ 0.1120],\n",
       "        [ 0.1469],\n",
       "        [ 0.4318],\n",
       "        [-0.1769],\n",
       "        [ 0.5448],\n",
       "        [ 0.6904],\n",
       "        [ 0.4726],\n",
       "        [ 0.0104],\n",
       "        [ 0.5544],\n",
       "        [ 0.5237],\n",
       "        [ 0.3794],\n",
       "        [ 0.6044],\n",
       "        [-0.0334],\n",
       "        [ 0.6326],\n",
       "        [ 0.1442],\n",
       "        [ 0.0267],\n",
       "        [ 0.4854],\n",
       "        [ 0.1558],\n",
       "        [ 0.3095],\n",
       "        [-0.0546],\n",
       "        [ 0.2950],\n",
       "        [ 0.2634],\n",
       "        [ 0.6329],\n",
       "        [ 0.6784],\n",
       "        [ 0.4494],\n",
       "        [ 0.6404],\n",
       "        [ 0.0749],\n",
       "        [ 0.4504],\n",
       "        [-0.0530],\n",
       "        [ 0.6189],\n",
       "        [ 0.1234],\n",
       "        [ 0.3602],\n",
       "        [-0.0787],\n",
       "        [ 0.5129],\n",
       "        [ 0.2708]], grad_fn=<_TorchNNFunctionBackward>)"
      ]
     },
     "execution_count": 60,
     "metadata": {},
     "output_type": "execute_result"
    }
   ],
   "source": [
    "qmodel_t_ibm.k_linear(randarray[:,1,:])"
   ]
  },
  {
   "cell_type": "code",
   "execution_count": 151,
   "metadata": {},
   "outputs": [
    {
     "data": {
      "text/plain": [
       "{'training': True,\n",
       " '_parameters': OrderedDict([('weight', Parameter containing:\n",
       "               tensor([-0.5241,  0.8075], requires_grad=True)),\n",
       "              ('_weights',\n",
       "               Parameter containing:\n",
       "               tensor([-0.5241,  0.8075], requires_grad=True))]),\n",
       " '_buffers': OrderedDict(),\n",
       " '_non_persistent_buffers_set': set(),\n",
       " '_backward_hooks': OrderedDict(),\n",
       " '_is_full_backward_hook': None,\n",
       " '_forward_hooks': OrderedDict(),\n",
       " '_forward_pre_hooks': OrderedDict(),\n",
       " '_state_dict_hooks': OrderedDict(),\n",
       " '_load_state_dict_pre_hooks': OrderedDict(),\n",
       " '_modules': OrderedDict(),\n",
       " '_neural_network': <qiskit_machine_learning.neural_networks.two_layer_qnn.TwoLayerQNN at 0x7f85a25881d0>,\n",
       " '_sparse': None}"
      ]
     },
     "execution_count": 151,
     "metadata": {},
     "output_type": "execute_result"
    }
   ],
   "source": [
    "qmodel_t_ibm.k_linear.__dict__"
   ]
  },
  {
   "cell_type": "code",
   "execution_count": 123,
   "metadata": {},
   "outputs": [
    {
     "data": {
      "text/plain": [
       "tensor([[[0.4963, 0.7682, 0.0885],\n",
       "         [0.1320, 0.3074, 0.6341]],\n",
       "\n",
       "        [[0.4901, 0.8964, 0.4556],\n",
       "         [0.6323, 0.3489, 0.4017]],\n",
       "\n",
       "        [[0.0223, 0.1689, 0.2939],\n",
       "         [0.5185, 0.6977, 0.8000]],\n",
       "\n",
       "        [[0.1610, 0.2823, 0.6816],\n",
       "         [0.9152, 0.3971, 0.8742]],\n",
       "\n",
       "        [[0.4194, 0.5529, 0.9527],\n",
       "         [0.0362, 0.1852, 0.3734]],\n",
       "\n",
       "        [[0.3051, 0.9320, 0.1759],\n",
       "         [0.2698, 0.1507, 0.0317]],\n",
       "\n",
       "        [[0.2081, 0.9298, 0.7231],\n",
       "         [0.7423, 0.5263, 0.2437]],\n",
       "\n",
       "        [[0.5846, 0.0332, 0.1387],\n",
       "         [0.2422, 0.8155, 0.7932]],\n",
       "\n",
       "        [[0.2783, 0.4820, 0.8198],\n",
       "         [0.9971, 0.6984, 0.5675]],\n",
       "\n",
       "        [[0.8352, 0.2056, 0.5932],\n",
       "         [0.1123, 0.1535, 0.2417]],\n",
       "\n",
       "        [[0.7262, 0.7011, 0.2038],\n",
       "         [0.6511, 0.7745, 0.4369]],\n",
       "\n",
       "        [[0.5191, 0.6159, 0.8102],\n",
       "         [0.9801, 0.1147, 0.3168]],\n",
       "\n",
       "        [[0.6965, 0.9143, 0.9351],\n",
       "         [0.9412, 0.5995, 0.0652]],\n",
       "\n",
       "        [[0.5460, 0.1872, 0.0340],\n",
       "         [0.9442, 0.8802, 0.0012]],\n",
       "\n",
       "        [[0.5936, 0.4158, 0.4177],\n",
       "         [0.2711, 0.6923, 0.2038]],\n",
       "\n",
       "        [[0.6833, 0.7529, 0.8579],\n",
       "         [0.6870, 0.0051, 0.1757]],\n",
       "\n",
       "        [[0.7497, 0.6047, 0.1100],\n",
       "         [0.2121, 0.9704, 0.8369]],\n",
       "\n",
       "        [[0.2820, 0.3742, 0.0237],\n",
       "         [0.4910, 0.1235, 0.1143]],\n",
       "\n",
       "        [[0.4725, 0.5751, 0.2952],\n",
       "         [0.7967, 0.1957, 0.9537]],\n",
       "\n",
       "        [[0.8426, 0.0784, 0.3756],\n",
       "         [0.5226, 0.5730, 0.6186]],\n",
       "\n",
       "        [[0.6962, 0.5300, 0.2560],\n",
       "         [0.7366, 0.0204, 0.2036]],\n",
       "\n",
       "        [[0.3748, 0.2564, 0.3251],\n",
       "         [0.0902, 0.3936, 0.6069]],\n",
       "\n",
       "        [[0.1743, 0.4743, 0.8579],\n",
       "         [0.4486, 0.5139, 0.4569]],\n",
       "\n",
       "        [[0.6012, 0.8179, 0.9736],\n",
       "         [0.8175, 0.9747, 0.4638]],\n",
       "\n",
       "        [[0.0508, 0.2630, 0.8405],\n",
       "         [0.4968, 0.2515, 0.1168]],\n",
       "\n",
       "        [[0.0321, 0.0780, 0.3986],\n",
       "         [0.7742, 0.7703, 0.0178]],\n",
       "\n",
       "        [[0.8119, 0.1087, 0.3943],\n",
       "         [0.2973, 0.4037, 0.4018]],\n",
       "\n",
       "        [[0.0513, 0.0683, 0.4218],\n",
       "         [0.5065, 0.2729, 0.6883]],\n",
       "\n",
       "        [[0.0500, 0.4663, 0.9397],\n",
       "         [0.2961, 0.9515, 0.6811]],\n",
       "\n",
       "        [[0.0488, 0.8163, 0.4423],\n",
       "         [0.2768, 0.8998, 0.0960]],\n",
       "\n",
       "        [[0.5537, 0.3953, 0.8571],\n",
       "         [0.6396, 0.7403, 0.6766]],\n",
       "\n",
       "        [[0.3798, 0.3948, 0.0880],\n",
       "         [0.7709, 0.8970, 0.8421]],\n",
       "\n",
       "        [[0.1473, 0.5223, 0.1475],\n",
       "         [0.2248, 0.2086, 0.6709]],\n",
       "\n",
       "        [[0.2020, 0.4891, 0.5210],\n",
       "         [0.8223, 0.1220, 0.1567]],\n",
       "\n",
       "        [[0.2097, 0.8500, 0.3203],\n",
       "         [0.9217, 0.6808, 0.5633]],\n",
       "\n",
       "        [[0.4963, 0.4012, 0.5627],\n",
       "         [0.3858, 0.4965, 0.5638]],\n",
       "\n",
       "        [[0.1089, 0.2379, 0.9037],\n",
       "         [0.0942, 0.4641, 0.9946]],\n",
       "\n",
       "        [[0.6806, 0.5142, 0.0667],\n",
       "         [0.7477, 0.1439, 0.3581]],\n",
       "\n",
       "        [[0.3322, 0.4260, 0.5055],\n",
       "         [0.9124, 0.5624, 0.9478]],\n",
       "\n",
       "        [[0.8059, 0.1839, 0.7243],\n",
       "         [0.1466, 0.2881, 0.6471]],\n",
       "\n",
       "        [[0.6651, 0.8751, 0.3390],\n",
       "         [0.5008, 0.7574, 0.0165]],\n",
       "\n",
       "        [[0.8615, 0.0865, 0.5069],\n",
       "         [0.4150, 0.2367, 0.5661]],\n",
       "\n",
       "        [[0.9135, 0.3538, 0.2032],\n",
       "         [0.3151, 0.0044, 0.7257]],\n",
       "\n",
       "        [[0.2599, 0.1663, 0.2119],\n",
       "         [0.7875, 0.7648, 0.8838]],\n",
       "\n",
       "        [[0.6814, 0.3330, 0.3603],\n",
       "         [0.6477, 0.9110, 0.6359]],\n",
       "\n",
       "        [[0.2634, 0.2650, 0.0273],\n",
       "         [0.6080, 0.2194, 0.0542]],\n",
       "\n",
       "        [[0.9384, 0.1753, 0.4431],\n",
       "         [0.6432, 0.5159, 0.1636]],\n",
       "\n",
       "        [[0.0958, 0.8985, 0.5814],\n",
       "         [0.9148, 0.3324, 0.6473]],\n",
       "\n",
       "        [[0.3857, 0.4778, 0.1955],\n",
       "         [0.6691, 0.6581, 0.4897]],\n",
       "\n",
       "        [[0.3875, 0.1918, 0.8458],\n",
       "         [0.1278, 0.7048, 0.3319]]])"
      ]
     },
     "execution_count": 123,
     "metadata": {},
     "output_type": "execute_result"
    }
   ],
   "source": [
    "randarray"
   ]
  },
  {
   "cell_type": "code",
   "execution_count": 149,
   "metadata": {},
   "outputs": [
    {
     "data": {
      "text/plain": [
       "tensor([[-0.5486, -0.5036,  0.2834, -0.2764],\n",
       "        [-0.5486, -0.5157,  0.2902, -0.2830],\n",
       "        [-0.5486, -0.7781,  0.4379, -0.4270],\n",
       "        [-0.5486, -0.6874,  0.3868, -0.3772],\n",
       "        [-0.5486, -0.8548,  0.4811, -0.4691]], grad_fn=<StackBackward>)"
      ]
     },
     "execution_count": 149,
     "metadata": {},
     "output_type": "execute_result"
    }
   ],
   "source": [
    "n_qubits = 4\n",
    "n_qlayers = 1\n",
    "dev =  qml.device(\"default.qubit\", wires=n_qubits)\n",
    "\n",
    "def _circuit(inputs, weights):\n",
    "                qml.templates.AngleEmbedding(inputs, wires=range(n_qubits))\n",
    "                qml.templates.BasicEntanglerLayers(weights, wires=range(n_qubits))\n",
    "                return [qml.expval(qml.PauliZ(wires=i)) for i in range(n_qubits)]\n",
    "qlayer = qml.QNode(_circuit, dev, interface=\"torch\")\n",
    "weight_shapes = {\"weights\": (n_qlayers, n_qubits)}\n",
    "\n",
    "\n",
    "batch_size, seq_len, embed_dim  = 50, 2, n_qubits\n",
    "randarray2 = torch.rand(batch_size, seq_len, embed_dim)\n",
    "\n",
    "qml.qnn.TorchLayer(qlayer, weight_shapes)(randarray2[:5,1,:1])\n"
   ]
  },
  {
   "cell_type": "code",
   "execution_count": 146,
   "metadata": {},
   "outputs": [
    {
     "data": {
      "text/plain": [
       "{'mutable': True,\n",
       " 'func': <function __main__._circuit(inputs, weights)>,\n",
       " '_original_device': <DefaultQubit device (wires=2, shots=1000) at 0x7f85a35424d0>,\n",
       " 'qtape': <TorchQuantumTape: wires=[0, 1], params=2>,\n",
       " 'qfunc_output': [expval(PauliZ(wires=[0])), expval(PauliZ(wires=[1]))],\n",
       " 'diff_method': 'best',\n",
       " '_tape': pennylane.tape.tapes.qubit_param_shift.QubitParamShiftTape,\n",
       " 'interface': 'torch',\n",
       " 'device': <DefaultQubit device (wires=2, shots=1000) at 0x7f85a35424d0>,\n",
       " 'diff_options': {'method': 'best'},\n",
       " 'dtype': torch.float64,\n",
       " 'max_expansion': 10}"
      ]
     },
     "execution_count": 146,
     "metadata": {},
     "output_type": "execute_result"
    }
   ],
   "source": [
    "qlayer.__dict__"
   ]
  },
  {
   "cell_type": "code",
   "execution_count": 135,
   "metadata": {},
   "outputs": [
    {
     "data": {
      "text/plain": [
       "tensor([[0.7153],\n",
       "        [0.8691],\n",
       "        [0.4464],\n",
       "        [0.7818],\n",
       "        [0.3029]])"
      ]
     },
     "execution_count": 135,
     "metadata": {},
     "output_type": "execute_result"
    }
   ],
   "source": [
    "randarray2[:5,1,:1]"
   ]
  },
  {
   "cell_type": "code",
   "execution_count": 144,
   "metadata": {},
   "outputs": [
    {
     "data": {
      "text/plain": [
       "tensor([[ 0.5403, -0.1575],\n",
       "        [ 0.9914, -0.2890],\n",
       "        [ 0.8506, -0.2479],\n",
       "        [ 0.9763, -0.2845],\n",
       "        [ 0.7667, -0.2235]], grad_fn=<StackBackward>)"
      ]
     },
     "execution_count": 144,
     "metadata": {},
     "output_type": "execute_result"
    }
   ],
   "source": [
    "sample = torch.tensor([[0], [0.8691],  [0.4464], [0.7818], [0.3029]])\n",
    "qml.qnn.TorchLayer(qlayer, weight_shapes)(sample)\n"
   ]
  },
  {
   "cell_type": "markdown",
   "metadata": {},
   "source": [
    "# from Tutorial"
   ]
  },
  {
   "cell_type": "code",
   "execution_count": 53,
   "metadata": {},
   "outputs": [],
   "source": [
    "# set method to calculcate expected values\n",
    "expval = AerPauliExpectation()\n",
    "\n",
    "# define gradient method\n",
    "gradient = Gradient()\n",
    "\n",
    "# define quantum instances (statevector and sample based)\n",
    "qi_sv = QuantumInstance(Aer.get_backend('aer_simulator_statevector'))\n",
    "\n",
    "# we set shots to 10 as this will determine the number of samples later on.\n",
    "qi_qasm = QuantumInstance(Aer.get_backend('aer_simulator'), shots=10)"
   ]
  },
  {
   "cell_type": "code",
   "execution_count": 54,
   "metadata": {},
   "outputs": [
    {
     "name": "stdout",
     "output_type": "stream",
     "text": [
      "ComposedOp([\n",
      "  OperatorMeasurement(1.0 * Z\n",
      "  + 1.0 * X),\n",
      "  CircuitStateFn(\n",
      "       ┌───┐┌────────────┐┌─────────────┐\n",
      "  q_0: ┤ H ├┤ Ry(input1) ├┤ Rx(weight1) ├\n",
      "       └───┘└────────────┘└─────────────┘\n",
      "  )\n",
      "])\n"
     ]
    }
   ],
   "source": [
    "\n",
    "# construct parametrized circuit\n",
    "params1 = [Parameter('input1'), Parameter('weight1')]\n",
    "qc1 = QuantumCircuit(1)\n",
    "qc1.h(0)\n",
    "qc1.ry(params1[0], 0)\n",
    "qc1.rx(params1[1], 0)\n",
    "qc_sfn1 = StateFn(qc1)\n",
    "\n",
    "# construct cost operator\n",
    "H1 = StateFn(PauliSumOp.from_list([('Z', 1.0), ('X', 1.0)]))\n",
    "\n",
    "# combine operator and circuit to objective function\n",
    "op1 = ~H1 @ qc_sfn1\n",
    "print(op1)"
   ]
  },
  {
   "cell_type": "code",
   "execution_count": 57,
   "metadata": {},
   "outputs": [],
   "source": [
    "# construct OpflowQNN with the operator, the input parameters, the weight parameters,\n",
    "# the expected value, gradient, and quantum instance.\n",
    "qnn1 = OpflowQNN(op1, [params1[0]], [params1[1]], expval, gradient, qi_sv)"
   ]
  },
  {
   "cell_type": "code",
   "execution_count": 58,
   "metadata": {},
   "outputs": [],
   "source": [
    "# define (random) input and weights\n",
    "input1 = np.random.rand(qnn1.num_inputs)\n",
    "weights1 = np.random.rand(qnn1.num_weights)"
   ]
  },
  {
   "cell_type": "code",
   "execution_count": null,
   "metadata": {},
   "outputs": [],
   "source": [
    "op2 = ListOp([op1, op1])\n",
    "qnn2 = OpflowQNN(op2, [params1[0]], [params1[1]], expval, gradient, qi_sv)\n",
    "\n",
    "# QNN forward pass\n",
    "qnn2.forward(input1, weights1)"
   ]
  },
  {
   "cell_type": "code",
   "execution_count": 135,
   "metadata": {},
   "outputs": [
    {
     "name": "stderr",
     "output_type": "stream",
     "text": [
      "WARNING:qiskit_machine_learning.neural_networks.opflow_qnn:Cannot compute gradient operator! Continuing without gradients!\n"
     ]
    },
    {
     "name": "stdout",
     "output_type": "stream",
     "text": [
      "ComposedOp([\n",
      "  OperatorMeasurement(ListOp([\n",
      "    CircuitMeasurement(\n",
      "                                                     \n",
      "    q_0: ────────────────────────────────────────────\n",
      "         ┌──────────────────┐┌─────────────────┐┌───┐\n",
      "    q_1: ┤ Rx(-1.0*weight1) ├┤ Ry(-1.0*input1) ├┤ H ├\n",
      "         └──────────────────┘└─────────────────┘└───┘\n",
      "    ),\n",
      "    OperatorStateFn(1.0 * ZI\n",
      "    + 1.0 * XI)\n",
      "  ])),\n",
      "  CircuitStateFn(\n",
      "       ┌──────────────────────────┐┌──────────────────────────────────────┐\n",
      "  q_0: ┤0                         ├┤0                                     ├\n",
      "       │  ZZFeatureMap(x[0],x[1]) ││  RealAmplitudes(θ[0],θ[1],θ[2],θ[3]) │\n",
      "  q_1: ┤1                         ├┤1                                     ├\n",
      "       └──────────────────────────┘└──────────────────────────────────────┘\n",
      "  )\n",
      "])\n"
     ]
    }
   ],
   "source": [
    "# Define QNN\n",
    "feature_map = ZZFeatureMap(2)\n",
    "ansatz = RealAmplitudes(2, reps=1)\n",
    "# REMEMBER TO SET input_gradients=True FOR ENABLING HYBRID GRADIENT BACKPROP\n",
    "qnn4 = TwoLayerQNN(2, feature_map, ansatz, input_gradients=True, exp_val=AerPauliExpectation(), quantum_instance=qi,observable=op1)\n",
    "print(qnn4.operator)"
   ]
  },
  {
   "cell_type": "code",
   "execution_count": 132,
   "metadata": {},
   "outputs": [
    {
     "ename": "ValueError",
     "evalue": "This operator was not properly decomposed. By this point, all operator measurements should contain single operators, otherwise the coefficient gradients will not be handled properly.",
     "output_type": "error",
     "traceback": [
      "\u001b[0;31m---------------------------------------------------------------------------\u001b[0m",
      "\u001b[0;31mValueError\u001b[0m                                Traceback (most recent call last)",
      "\u001b[0;32m<ipython-input-132-07c7e8b075b4>\u001b[0m in \u001b[0;36m<module>\u001b[0;34m\u001b[0m\n\u001b[1;32m      3\u001b[0m \u001b[0mqnn4\u001b[0m\u001b[0;34m.\u001b[0m\u001b[0m_input_gradients\u001b[0m\u001b[0;34m\u001b[0m\u001b[0;34m\u001b[0m\u001b[0m\n\u001b[1;32m      4\u001b[0m \u001b[0mparams\u001b[0m \u001b[0;34m=\u001b[0m \u001b[0mqnn4\u001b[0m\u001b[0;34m.\u001b[0m\u001b[0m_input_params\u001b[0m \u001b[0;34m+\u001b[0m \u001b[0mqnn4\u001b[0m\u001b[0;34m.\u001b[0m\u001b[0m_weight_params\u001b[0m\u001b[0;34m\u001b[0m\u001b[0;34m\u001b[0m\u001b[0m\n\u001b[0;32m----> 5\u001b[0;31m \u001b[0mgradient\u001b[0m\u001b[0;34m.\u001b[0m\u001b[0mconvert\u001b[0m\u001b[0;34m(\u001b[0m\u001b[0mqnn4\u001b[0m\u001b[0;34m.\u001b[0m\u001b[0m_operator\u001b[0m\u001b[0;34m,\u001b[0m \u001b[0mparams\u001b[0m\u001b[0;34m)\u001b[0m\u001b[0;34m\u001b[0m\u001b[0;34m\u001b[0m\u001b[0m\n\u001b[0m",
      "\u001b[0;32m~/.pyenv/versions/anaconda3-2020.02/lib/python3.7/site-packages/qiskit/opflow/gradients/gradient.py\u001b[0m in \u001b[0;36mconvert\u001b[0;34m(self, operator, params)\u001b[0m\n\u001b[1;32m     69\u001b[0m             \u001b[0mparams\u001b[0m \u001b[0;34m=\u001b[0m \u001b[0msorted\u001b[0m\u001b[0;34m(\u001b[0m\u001b[0moperator\u001b[0m\u001b[0;34m.\u001b[0m\u001b[0mparameters\u001b[0m\u001b[0;34m,\u001b[0m \u001b[0mkey\u001b[0m\u001b[0;34m=\u001b[0m\u001b[0mfunctools\u001b[0m\u001b[0;34m.\u001b[0m\u001b[0mcmp_to_key\u001b[0m\u001b[0;34m(\u001b[0m\u001b[0m_compare_parameters\u001b[0m\u001b[0;34m)\u001b[0m\u001b[0;34m)\u001b[0m\u001b[0;34m\u001b[0m\u001b[0;34m\u001b[0m\u001b[0m\n\u001b[1;32m     70\u001b[0m         \u001b[0;32mif\u001b[0m \u001b[0misinstance\u001b[0m\u001b[0;34m(\u001b[0m\u001b[0mparams\u001b[0m\u001b[0;34m,\u001b[0m \u001b[0;34m(\u001b[0m\u001b[0mParameterVector\u001b[0m\u001b[0;34m,\u001b[0m \u001b[0mlist\u001b[0m\u001b[0;34m)\u001b[0m\u001b[0;34m)\u001b[0m\u001b[0;34m:\u001b[0m\u001b[0;34m\u001b[0m\u001b[0;34m\u001b[0m\u001b[0m\n\u001b[0;32m---> 71\u001b[0;31m             \u001b[0mparam_grads\u001b[0m \u001b[0;34m=\u001b[0m \u001b[0;34m[\u001b[0m\u001b[0mself\u001b[0m\u001b[0;34m.\u001b[0m\u001b[0mconvert\u001b[0m\u001b[0;34m(\u001b[0m\u001b[0moperator\u001b[0m\u001b[0;34m,\u001b[0m \u001b[0mparam\u001b[0m\u001b[0;34m)\u001b[0m \u001b[0;32mfor\u001b[0m \u001b[0mparam\u001b[0m \u001b[0;32min\u001b[0m \u001b[0mparams\u001b[0m\u001b[0;34m]\u001b[0m\u001b[0;34m\u001b[0m\u001b[0;34m\u001b[0m\u001b[0m\n\u001b[0m\u001b[1;32m     72\u001b[0m             absent_params = [\n\u001b[1;32m     73\u001b[0m                 \u001b[0mparams\u001b[0m\u001b[0;34m[\u001b[0m\u001b[0mi\u001b[0m\u001b[0;34m]\u001b[0m \u001b[0;32mfor\u001b[0m \u001b[0mi\u001b[0m\u001b[0;34m,\u001b[0m \u001b[0mgrad_ops\u001b[0m \u001b[0;32min\u001b[0m \u001b[0menumerate\u001b[0m\u001b[0;34m(\u001b[0m\u001b[0mparam_grads\u001b[0m\u001b[0;34m)\u001b[0m \u001b[0;32mif\u001b[0m \u001b[0mgrad_ops\u001b[0m \u001b[0;32mis\u001b[0m \u001b[0;32mNone\u001b[0m\u001b[0;34m\u001b[0m\u001b[0;34m\u001b[0m\u001b[0m\n",
      "\u001b[0;32m~/.pyenv/versions/anaconda3-2020.02/lib/python3.7/site-packages/qiskit/opflow/gradients/gradient.py\u001b[0m in \u001b[0;36m<listcomp>\u001b[0;34m(.0)\u001b[0m\n\u001b[1;32m     69\u001b[0m             \u001b[0mparams\u001b[0m \u001b[0;34m=\u001b[0m \u001b[0msorted\u001b[0m\u001b[0;34m(\u001b[0m\u001b[0moperator\u001b[0m\u001b[0;34m.\u001b[0m\u001b[0mparameters\u001b[0m\u001b[0;34m,\u001b[0m \u001b[0mkey\u001b[0m\u001b[0;34m=\u001b[0m\u001b[0mfunctools\u001b[0m\u001b[0;34m.\u001b[0m\u001b[0mcmp_to_key\u001b[0m\u001b[0;34m(\u001b[0m\u001b[0m_compare_parameters\u001b[0m\u001b[0;34m)\u001b[0m\u001b[0;34m)\u001b[0m\u001b[0;34m\u001b[0m\u001b[0;34m\u001b[0m\u001b[0m\n\u001b[1;32m     70\u001b[0m         \u001b[0;32mif\u001b[0m \u001b[0misinstance\u001b[0m\u001b[0;34m(\u001b[0m\u001b[0mparams\u001b[0m\u001b[0;34m,\u001b[0m \u001b[0;34m(\u001b[0m\u001b[0mParameterVector\u001b[0m\u001b[0;34m,\u001b[0m \u001b[0mlist\u001b[0m\u001b[0;34m)\u001b[0m\u001b[0;34m)\u001b[0m\u001b[0;34m:\u001b[0m\u001b[0;34m\u001b[0m\u001b[0;34m\u001b[0m\u001b[0m\n\u001b[0;32m---> 71\u001b[0;31m             \u001b[0mparam_grads\u001b[0m \u001b[0;34m=\u001b[0m \u001b[0;34m[\u001b[0m\u001b[0mself\u001b[0m\u001b[0;34m.\u001b[0m\u001b[0mconvert\u001b[0m\u001b[0;34m(\u001b[0m\u001b[0moperator\u001b[0m\u001b[0;34m,\u001b[0m \u001b[0mparam\u001b[0m\u001b[0;34m)\u001b[0m \u001b[0;32mfor\u001b[0m \u001b[0mparam\u001b[0m \u001b[0;32min\u001b[0m \u001b[0mparams\u001b[0m\u001b[0;34m]\u001b[0m\u001b[0;34m\u001b[0m\u001b[0;34m\u001b[0m\u001b[0m\n\u001b[0m\u001b[1;32m     72\u001b[0m             absent_params = [\n\u001b[1;32m     73\u001b[0m                 \u001b[0mparams\u001b[0m\u001b[0;34m[\u001b[0m\u001b[0mi\u001b[0m\u001b[0;34m]\u001b[0m \u001b[0;32mfor\u001b[0m \u001b[0mi\u001b[0m\u001b[0;34m,\u001b[0m \u001b[0mgrad_ops\u001b[0m \u001b[0;32min\u001b[0m \u001b[0menumerate\u001b[0m\u001b[0;34m(\u001b[0m\u001b[0mparam_grads\u001b[0m\u001b[0;34m)\u001b[0m \u001b[0;32mif\u001b[0m \u001b[0mgrad_ops\u001b[0m \u001b[0;32mis\u001b[0m \u001b[0;32mNone\u001b[0m\u001b[0;34m\u001b[0m\u001b[0;34m\u001b[0m\u001b[0m\n",
      "\u001b[0;32m~/.pyenv/versions/anaconda3-2020.02/lib/python3.7/site-packages/qiskit/opflow/gradients/gradient.py\u001b[0m in \u001b[0;36mconvert\u001b[0;34m(self, operator, params)\u001b[0m\n\u001b[1;32m     83\u001b[0m         \u001b[0;31m# Preprocessing\u001b[0m\u001b[0;34m\u001b[0m\u001b[0;34m\u001b[0m\u001b[0;34m\u001b[0m\u001b[0m\n\u001b[1;32m     84\u001b[0m         \u001b[0mexpec_op\u001b[0m \u001b[0;34m=\u001b[0m \u001b[0mPauliExpectation\u001b[0m\u001b[0;34m(\u001b[0m\u001b[0mgroup_paulis\u001b[0m\u001b[0;34m=\u001b[0m\u001b[0;32mFalse\u001b[0m\u001b[0;34m)\u001b[0m\u001b[0;34m.\u001b[0m\u001b[0mconvert\u001b[0m\u001b[0;34m(\u001b[0m\u001b[0moperator\u001b[0m\u001b[0;34m)\u001b[0m\u001b[0;34m.\u001b[0m\u001b[0mreduce\u001b[0m\u001b[0;34m(\u001b[0m\u001b[0;34m)\u001b[0m\u001b[0;34m\u001b[0m\u001b[0;34m\u001b[0m\u001b[0m\n\u001b[0;32m---> 85\u001b[0;31m         \u001b[0mcleaned_op\u001b[0m \u001b[0;34m=\u001b[0m \u001b[0mself\u001b[0m\u001b[0;34m.\u001b[0m\u001b[0m_factor_coeffs_out_of_composed_op\u001b[0m\u001b[0;34m(\u001b[0m\u001b[0mexpec_op\u001b[0m\u001b[0;34m)\u001b[0m\u001b[0;34m\u001b[0m\u001b[0;34m\u001b[0m\u001b[0m\n\u001b[0m\u001b[1;32m     86\u001b[0m         \u001b[0;32mreturn\u001b[0m \u001b[0mself\u001b[0m\u001b[0;34m.\u001b[0m\u001b[0mget_gradient\u001b[0m\u001b[0;34m(\u001b[0m\u001b[0mcleaned_op\u001b[0m\u001b[0;34m,\u001b[0m \u001b[0mparam\u001b[0m\u001b[0;34m)\u001b[0m\u001b[0;34m\u001b[0m\u001b[0;34m\u001b[0m\u001b[0m\n\u001b[1;32m     87\u001b[0m \u001b[0;34m\u001b[0m\u001b[0m\n",
      "\u001b[0;32m~/.pyenv/versions/anaconda3-2020.02/lib/python3.7/site-packages/qiskit/opflow/gradients/derivative_base.py\u001b[0m in \u001b[0;36m_factor_coeffs_out_of_composed_op\u001b[0;34m(cls, operator)\u001b[0m\n\u001b[1;32m    216\u001b[0m                     \u001b[0;32melif\u001b[0m \u001b[0misinstance\u001b[0m\u001b[0;34m(\u001b[0m\u001b[0mprim\u001b[0m\u001b[0;34m,\u001b[0m \u001b[0mListOp\u001b[0m\u001b[0;34m)\u001b[0m\u001b[0;34m:\u001b[0m\u001b[0;34m\u001b[0m\u001b[0;34m\u001b[0m\u001b[0m\n\u001b[1;32m    217\u001b[0m                         raise ValueError(\n\u001b[0;32m--> 218\u001b[0;31m                             \u001b[0;34m\"This operator was not properly decomposed. \"\u001b[0m\u001b[0;34m\u001b[0m\u001b[0;34m\u001b[0m\u001b[0m\n\u001b[0m\u001b[1;32m    219\u001b[0m                             \u001b[0;34m\"By this point, all operator measurements should \"\u001b[0m\u001b[0;34m\u001b[0m\u001b[0;34m\u001b[0m\u001b[0m\n\u001b[1;32m    220\u001b[0m                             \u001b[0;34m\"contain single operators, otherwise the coefficient \"\u001b[0m\u001b[0;34m\u001b[0m\u001b[0;34m\u001b[0m\u001b[0m\n",
      "\u001b[0;31mValueError\u001b[0m: This operator was not properly decomposed. By this point, all operator measurements should contain single operators, otherwise the coefficient gradients will not be handled properly."
     ]
    }
   ],
   "source": [
    "# qnn4._construct_gradient_operator()\n",
    "qnn4._gradient or Gradient()\n",
    "qnn4._input_gradients\n",
    "params = qnn4._input_params + qnn4._weight_params\n",
    "gradient.convert(qnn4._operator, params)"
   ]
  },
  {
   "cell_type": "code",
   "execution_count": 98,
   "metadata": {},
   "outputs": [
    {
     "name": "stdout",
     "output_type": "stream",
     "text": [
      "ComposedOp([\n",
      "  DictMeasurement({'XI0': 1}),\n",
      "  CircuitStateFn(\n",
      "       ┌───────────────────────────┐┌──────────────────────────────────────────┐\n",
      "  q_0: ┤0                          ├┤0                                         ├\n",
      "       │                           ││                                          │\n",
      "  q_1: ┤1 TwoLocal(x[0],x[1],x[2]) ├┤1 TwoLocal(θ[0],θ[1],θ[2],θ[3],θ[4],θ[5]) ├\n",
      "       │                           ││                                          │\n",
      "  q_2: ┤2                          ├┤2                                         ├\n",
      "       └───────────────────────────┘└──────────────────────────────────────────┘\n",
      "  )\n",
      "])\n"
     ]
    }
   ],
   "source": [
    "qnn4 = TwoLayerQNN(n_qubits, qc_encode, qc_weight, input_gradients=True, exp_val=AerPauliExpectation(), quantum_instance=qi,observable=\"XI0\")\n",
    "print(qnn4.operator)"
   ]
  },
  {
   "cell_type": "code",
   "execution_count": null,
   "metadata": {},
   "outputs": [],
   "source": []
  }
 ],
 "metadata": {
  "kernelspec": {
   "display_name": "Python 3",
   "language": "python",
   "name": "python3"
  },
  "language_info": {
   "codemirror_mode": {
    "name": "ipython",
    "version": 3
   },
   "file_extension": ".py",
   "mimetype": "text/x-python",
   "name": "python",
   "nbconvert_exporter": "python",
   "pygments_lexer": "ipython3",
   "version": "3.7.6"
  },
  "toc": {
   "base_numbering": 1,
   "nav_menu": {},
   "number_sections": true,
   "sideBar": true,
   "skip_h1_title": false,
   "title_cell": "Table of Contents",
   "title_sidebar": "Contents",
   "toc_cell": false,
   "toc_position": {},
   "toc_section_display": true,
   "toc_window_display": true
  }
 },
 "nbformat": 4,
 "nbformat_minor": 2
}
