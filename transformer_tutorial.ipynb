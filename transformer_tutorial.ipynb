{
  "cells": [
    {
      "cell_type": "code",
      "execution_count": null,
      "metadata": {
        "id": "c5AHwLDeQgnE"
      },
      "outputs": [],
      "source": [
        "%matplotlib inline"
      ]
    },
    {
      "cell_type": "markdown",
      "metadata": {
        "id": "CRimZ1mDQgnH"
      },
      "source": [
        "\n",
        "Language Modeling with nn.Transformer and TorchText\n",
        "===============================================================\n",
        "\n",
        "This is a tutorial on training a sequence-to-sequence model that uses the\n",
        "`nn.Transformer <https://pytorch.org/docs/stable/generated/torch.nn.Transformer.html>`__ module.\n",
        "\n",
        "The PyTorch 1.2 release includes a standard transformer module based on the\n",
        "paper `Attention is All You Need <https://arxiv.org/pdf/1706.03762.pdf>`__.\n",
        "Compared to Recurrent Neural Networks (RNNs), the transformer model has proven\n",
        "to be superior in quality for many sequence-to-sequence tasks while being more\n",
        "parallelizable. The ``nn.Transformer`` module relies entirely on an attention\n",
        "mechanism (implemented as\n",
        "`nn.MultiheadAttention <https://pytorch.org/docs/stable/generated/torch.nn.MultiheadAttention.html>`__)\n",
        "to draw global dependencies between input and output. The ``nn.Transformer``\n",
        "module is highly modularized such that a single component (e.g.,\n",
        "`nn.TransformerEncoder <https://pytorch.org/docs/stable/generated/torch.nn.TransformerEncoder.html>`__)\n",
        "can be easily adapted/composed.\n",
        "\n",
        "![](https://github.com/pytorch/tutorials/blob/gh-pages/_downloads/_static/img/transformer_architecture.jpg?raw=1)\n",
        "\n",
        "\n",
        "\n"
      ]
    },
    {
      "cell_type": "markdown",
      "metadata": {
        "id": "O7x8iXD5QgnJ"
      },
      "source": [
        "Define the model\n",
        "----------------\n",
        "\n",
        "\n"
      ]
    },
    {
      "cell_type": "markdown",
      "metadata": {
        "id": "FcNd0CM4QgnK"
      },
      "source": [
        "In this tutorial, we train a ``nn.TransformerEncoder`` model on a\n",
        "language modeling task. The language modeling task is to assign a\n",
        "probability for the likelihood of a given word (or a sequence of words)\n",
        "to follow a sequence of words. A sequence of tokens are passed to the embedding\n",
        "layer first, followed by a positional encoding layer to account for the order\n",
        "of the word (see the next paragraph for more details). The\n",
        "``nn.TransformerEncoder`` consists of multiple layers of\n",
        "`nn.TransformerEncoderLayer <https://pytorch.org/docs/stable/generated/torch.nn.TransformerEncoderLayer.html>`__.\n",
        "Along with the input sequence, a square attention mask is required because the\n",
        "self-attention layers in ``nn.TransformerEncoder`` are only allowed to attend\n",
        "the earlier positions in the sequence. For the language modeling task, any\n",
        "tokens on the future positions should be masked. To produce a probability\n",
        "distribution over output words, the output of the ``nn.TransformerEncoder``\n",
        "model is passed through a linear layer followed by a log-softmax function.\n",
        "\n",
        "\n"
      ]
    },
    {
      "cell_type": "code",
      "execution_count": 1,
      "metadata": {
        "id": "S8JBXQGRQgnK"
      },
      "outputs": [],
      "source": [
        "import math\n",
        "from typing import Tuple\n",
        "\n",
        "import torch\n",
        "from torch import nn, Tensor\n",
        "import torch.nn.functional as F\n",
        "from torch.nn import TransformerEncoder, TransformerEncoderLayer\n",
        "from torch.utils.data import dataset\n",
        "\n",
        "class TransformerModel(nn.Module):\n",
        "\n",
        "    def __init__(self, ntoken: int, d_model: int, nhead: int, d_hid: int,\n",
        "                 nlayers: int, dropout: float = 0.5):\n",
        "        super().__init__()\n",
        "        self.model_type = 'Transformer'\n",
        "        self.pos_encoder = PositionalEncoding(d_model, dropout)\n",
        "        encoder_layers = TransformerEncoderLayer(d_model, nhead, d_hid, dropout)\n",
        "        self.transformer_encoder = TransformerEncoder(encoder_layers, nlayers)\n",
        "        self.encoder = nn.Embedding(ntoken, d_model)\n",
        "        self.d_model = d_model\n",
        "        self.decoder = nn.Linear(d_model, ntoken)\n",
        "\n",
        "        self.init_weights()\n",
        "\n",
        "    def init_weights(self) -> None:\n",
        "        initrange = 0.1\n",
        "        self.encoder.weight.data.uniform_(-initrange, initrange)\n",
        "        self.decoder.bias.data.zero_()\n",
        "        self.decoder.weight.data.uniform_(-initrange, initrange)\n",
        "\n",
        "    def forward(self, src: Tensor, src_mask: Tensor) -> Tensor:\n",
        "        \"\"\"\n",
        "        Args:\n",
        "            src: Tensor, shape [seq_len, batch_size]\n",
        "            src_mask: Tensor, shape [seq_len, seq_len]\n",
        "\n",
        "        Returns:\n",
        "            output Tensor of shape [seq_len, batch_size, ntoken]\n",
        "        \"\"\"\n",
        "        src = self.encoder(src) * math.sqrt(self.d_model)\n",
        "        src = self.pos_encoder(src)\n",
        "        output = self.transformer_encoder(src, src_mask)\n",
        "        output = self.decoder(output)\n",
        "        return output\n",
        "\n",
        "\n",
        "def generate_square_subsequent_mask(sz: int) -> Tensor:\n",
        "    \"\"\"Generates an upper-triangular matrix of -inf, with zeros on diag.\"\"\"\n",
        "    return torch.triu(torch.ones(sz, sz) * float('-inf'), diagonal=1)"
      ]
    },
    {
      "cell_type": "markdown",
      "metadata": {
        "id": "Oyj7nGH_QgnL"
      },
      "source": [
        "``PositionalEncoding`` module injects some information about the\n",
        "relative or absolute position of the tokens in the sequence. The\n",
        "positional encodings have the same dimension as the embeddings so that\n",
        "the two can be summed. Here, we use ``sine`` and ``cosine`` functions of\n",
        "different frequencies.\n",
        "\n",
        "\n"
      ]
    },
    {
      "cell_type": "code",
      "execution_count": 2,
      "metadata": {
        "id": "1Mrn61uiQgnM"
      },
      "outputs": [],
      "source": [
        "class PositionalEncoding(nn.Module):\n",
        "\n",
        "    def __init__(self, d_model: int, dropout: float = 0.1, max_len: int = 5000):\n",
        "        super().__init__()\n",
        "        self.dropout = nn.Dropout(p=dropout)\n",
        "\n",
        "        position = torch.arange(max_len).unsqueeze(1)\n",
        "        div_term = torch.exp(torch.arange(0, d_model, 2) * (-math.log(10000.0) / d_model))\n",
        "        pe = torch.zeros(max_len, 1, d_model)\n",
        "        pe[:, 0, 0::2] = torch.sin(position * div_term)\n",
        "        pe[:, 0, 1::2] = torch.cos(position * div_term)\n",
        "        self.register_buffer('pe', pe)\n",
        "\n",
        "    def forward(self, x: Tensor) -> Tensor:\n",
        "        \"\"\"\n",
        "        Args:\n",
        "            x: Tensor, shape [seq_len, batch_size, embedding_dim]\n",
        "        \"\"\"\n",
        "        x = x + self.pe[:x.size(0)]\n",
        "        return self.dropout(x)"
      ]
    },
    {
      "cell_type": "markdown",
      "metadata": {
        "id": "DLWs9J5eQgnN"
      },
      "source": [
        "Load and batch data\n",
        "-------------------\n",
        "\n",
        "\n"
      ]
    },
    {
      "cell_type": "markdown",
      "metadata": {
        "id": "6dQm41hXQgnN"
      },
      "source": [
        "This tutorial uses ``torchtext`` to generate Wikitext-2 dataset. The\n",
        "vocab object is built based on the train dataset and is used to numericalize\n",
        "tokens into tensors. Wikitext-2 represents rare tokens as `<unk>`.\n",
        "\n",
        "Given a 1-D vector of sequential data, ``batchify()`` arranges the data\n",
        "into ``batch_size`` columns. If the data does not divide evenly into\n",
        "``batch_size`` columns, then the data is trimmed to fit. For instance, with\n",
        "the alphabet as the data (total length of 26) and ``batch_size=4``, we would\n",
        "divide the alphabet into 4 sequences of length 6:\n",
        "\n",
        "\\begin{align}\\begin{bmatrix}\n",
        "  \\text{A} & \\text{B} & \\text{C} & \\ldots & \\text{X} & \\text{Y} & \\text{Z}\n",
        "  \\end{bmatrix}\n",
        "  \\Rightarrow\n",
        "  \\begin{bmatrix}\n",
        "  \\begin{bmatrix}\\text{A} \\\\ \\text{B} \\\\ \\text{C} \\\\ \\text{D} \\\\ \\text{E} \\\\ \\text{F}\\end{bmatrix} &\n",
        "  \\begin{bmatrix}\\text{G} \\\\ \\text{H} \\\\ \\text{I} \\\\ \\text{J} \\\\ \\text{K} \\\\ \\text{L}\\end{bmatrix} &\n",
        "  \\begin{bmatrix}\\text{M} \\\\ \\text{N} \\\\ \\text{O} \\\\ \\text{P} \\\\ \\text{Q} \\\\ \\text{R}\\end{bmatrix} &\n",
        "  \\begin{bmatrix}\\text{S} \\\\ \\text{T} \\\\ \\text{U} \\\\ \\text{V} \\\\ \\text{W} \\\\ \\text{X}\\end{bmatrix}\n",
        "  \\end{bmatrix}\\end{align}\n",
        "\n",
        "Batching enables more parallelizable processing. However, batching means that\n",
        "the model treats each column independently; for example, the dependence of\n",
        "``G`` and ``F`` can not be learned in the example above.\n",
        "\n",
        "\n"
      ]
    },
    {
      "cell_type": "code",
      "execution_count": 3,
      "metadata": {
        "id": "dRj6pP7oQgnO",
        "outputId": "03856c60-c5fc-4dbd-d38c-63a419875afd",
        "colab": {
          "base_uri": "https://localhost:8080/"
        }
      },
      "outputs": [
        {
          "output_type": "stream",
          "name": "stderr",
          "text": [
            "100%|██████████| 4.48M/4.48M [00:00<00:00, 6.84MB/s]\n"
          ]
        }
      ],
      "source": [
        "from torchtext.datasets import WikiText2\n",
        "from torchtext.data.utils import get_tokenizer\n",
        "from torchtext.vocab import build_vocab_from_iterator\n",
        "\n",
        "train_iter = WikiText2(split='train')\n",
        "tokenizer = get_tokenizer('basic_english')\n",
        "vocab = build_vocab_from_iterator(map(tokenizer, train_iter), specials=['<unk>'])\n",
        "vocab.set_default_index(vocab['<unk>']) \n",
        "\n",
        "def data_process(raw_text_iter: dataset.IterableDataset) -> Tensor:\n",
        "    \"\"\"Converts raw text into a flat Tensor.\"\"\"\n",
        "    data = [torch.tensor(vocab(tokenizer(item)), dtype=torch.long) for item in raw_text_iter]\n",
        "    return torch.cat(tuple(filter(lambda t: t.numel() > 0, data)))\n",
        "\n",
        "# train_iter was \"consumed\" by the process of building the vocab,\n",
        "# so we have to create it again\n",
        "train_iter, val_iter, test_iter = WikiText2()\n",
        "train_data = data_process(train_iter)\n",
        "val_data = data_process(val_iter)\n",
        "test_data = data_process(test_iter)\n",
        "\n",
        "device = torch.device('cuda' if torch.cuda.is_available() else 'cpu')\n",
        "\n",
        "def batchify(data: Tensor, bsz: int) -> Tensor:\n",
        "    \"\"\"Divides the data into bsz separate sequences, removing extra elements\n",
        "    that wouldn't cleanly fit.\n",
        "\n",
        "    Args:\n",
        "        data: Tensor, shape [N]\n",
        "        bsz: int, batch size\n",
        "\n",
        "    Returns:\n",
        "        Tensor of shape [N // bsz, bsz]\n",
        "    \"\"\"\n",
        "    seq_len = data.size(0) // bsz\n",
        "    data = data[:seq_len * bsz]\n",
        "    data = data.view(bsz, seq_len).t().contiguous()\n",
        "    return data.to(device)\n",
        "\n",
        "batch_size = 20\n",
        "eval_batch_size = 10\n",
        "train_data = batchify(train_data, batch_size)  # shape [seq_len, batch_size]\n",
        "val_data = batchify(val_data, eval_batch_size)\n",
        "test_data = batchify(test_data, eval_batch_size)"
      ]
    },
    {
      "cell_type": "markdown",
      "metadata": {
        "id": "5jtcWDiEQgnO"
      },
      "source": [
        "Functions to generate input and target sequence\n",
        "~~~~~~~~~~~~~~~~~~~~~~~~~~~~~~~~~~~~~~~~~~~~~~~~~\n",
        "\n",
        "\n"
      ]
    },
    {
      "cell_type": "markdown",
      "metadata": {
        "id": "SgK3Ior4QgnP"
      },
      "source": [
        "``get_batch()`` generates a pair of input-target sequences for\n",
        "the transformer model. It subdivides the source data into chunks of\n",
        "length ``bptt``. For the language modeling task, the model needs the\n",
        "following words as ``Target``. For example, with a ``bptt`` value of 2,\n",
        "we’d get the following two Variables for ``i`` = 0:\n",
        "\n",
        "![](https://github.com/pytorch/tutorials/blob/gh-pages/_downloads/_static/img/transformer_input_target.png?raw=1)\n",
        "\n",
        "\n",
        "It should be noted that the chunks are along dimension 0, consistent\n",
        "with the ``S`` dimension in the Transformer model. The batch dimension\n",
        "``N`` is along dimension 1.\n",
        "\n",
        "\n"
      ]
    },
    {
      "cell_type": "code",
      "execution_count": 4,
      "metadata": {
        "id": "19uQYkfYQgnP"
      },
      "outputs": [],
      "source": [
        "bptt = 35\n",
        "def get_batch(source: Tensor, i: int) -> Tuple[Tensor, Tensor]:\n",
        "    \"\"\"\n",
        "    Args:\n",
        "        source: Tensor, shape [full_seq_len, batch_size]\n",
        "        i: int\n",
        "\n",
        "    Returns:\n",
        "        tuple (data, target), where data has shape [seq_len, batch_size] and\n",
        "        target has shape [seq_len * batch_size]\n",
        "    \"\"\"\n",
        "    seq_len = min(bptt, len(source) - 1 - i)\n",
        "    data = source[i:i+seq_len]\n",
        "    target = source[i+1:i+1+seq_len].reshape(-1)\n",
        "    return data, target"
      ]
    },
    {
      "cell_type": "markdown",
      "metadata": {
        "id": "FuBVCMtXQgnQ"
      },
      "source": [
        "Initiate an instance\n",
        "--------------------\n",
        "\n",
        "\n"
      ]
    },
    {
      "cell_type": "markdown",
      "metadata": {
        "id": "8wCYvAQ9QgnQ"
      },
      "source": [
        "The model hyperparameters are defined below. The vocab size is\n",
        "equal to the length of the vocab object.\n",
        "\n",
        "\n"
      ]
    },
    {
      "cell_type": "code",
      "execution_count": 5,
      "metadata": {
        "id": "zUPm5eAiQgnQ"
      },
      "outputs": [],
      "source": [
        "ntokens = len(vocab)  # size of vocabulary\n",
        "emsize = 200  # embedding dimension\n",
        "d_hid = 200  # dimension of the feedforward network model in nn.TransformerEncoder\n",
        "nlayers = 2  # number of nn.TransformerEncoderLayer in nn.TransformerEncoder\n",
        "nhead = 2  # number of heads in nn.MultiheadAttention\n",
        "dropout = 0.2  # dropout probability\n",
        "model = TransformerModel(ntokens, emsize, nhead, d_hid, nlayers, dropout).to(device)"
      ]
    },
    {
      "cell_type": "markdown",
      "metadata": {
        "id": "QVIjcEZ-QgnQ"
      },
      "source": [
        "Run the model\n",
        "-------------\n",
        "\n",
        "\n"
      ]
    },
    {
      "cell_type": "markdown",
      "metadata": {
        "id": "L2xsMeTAQgnR"
      },
      "source": [
        "We use `CrossEntropyLoss <https://pytorch.org/docs/stable/generated/torch.nn.CrossEntropyLoss.html>`__\n",
        "with the `SGD <https://pytorch.org/docs/stable/generated/torch.optim.SGD.html>`__\n",
        "(stochastic gradient descent) optimizer. The learning rate is initially set to\n",
        "5.0 and follows a `StepLR <https://pytorch.org/docs/stable/generated/torch.optim.lr_scheduler.StepLR.html>`__\n",
        "schedule. During training, we use `nn.utils.clip_grad_norm\\_ <https://pytorch.org/docs/stable/generated/torch.nn.utils.clip_grad_norm_.html>`__\n",
        "to prevent gradients from exploding.\n",
        "\n",
        "\n"
      ]
    },
    {
      "cell_type": "code",
      "execution_count": 6,
      "metadata": {
        "id": "itmZ-atDQgnR"
      },
      "outputs": [],
      "source": [
        "import copy\n",
        "import time\n",
        "\n",
        "criterion = nn.CrossEntropyLoss()\n",
        "lr = 5.0  # learning rate\n",
        "optimizer = torch.optim.SGD(model.parameters(), lr=lr)\n",
        "scheduler = torch.optim.lr_scheduler.StepLR(optimizer, 1.0, gamma=0.95)\n",
        "\n",
        "def train(model: nn.Module) -> None:\n",
        "    model.train()  # turn on train mode\n",
        "    total_loss = 0.\n",
        "    log_interval = 200\n",
        "    start_time = time.time()\n",
        "    src_mask = generate_square_subsequent_mask(bptt).to(device)\n",
        "\n",
        "    num_batches = len(train_data) // bptt\n",
        "    for batch, i in enumerate(range(0, train_data.size(0) - 1, bptt)):\n",
        "        data, targets = get_batch(train_data, i)\n",
        "        batch_size = data.size(0)\n",
        "        if batch_size != bptt:  # only on last batch\n",
        "            src_mask = src_mask[:batch_size, :batch_size]\n",
        "        output = model(data, src_mask)\n",
        "        loss = criterion(output.view(-1, ntokens), targets)\n",
        "\n",
        "        optimizer.zero_grad()\n",
        "        loss.backward()\n",
        "        torch.nn.utils.clip_grad_norm_(model.parameters(), 0.5)\n",
        "        optimizer.step()\n",
        "\n",
        "        total_loss += loss.item()\n",
        "        if batch % log_interval == 0 and batch > 0:\n",
        "            lr = scheduler.get_last_lr()[0]\n",
        "            ms_per_batch = (time.time() - start_time) * 1000 / log_interval\n",
        "            cur_loss = total_loss / log_interval\n",
        "            ppl = math.exp(cur_loss)\n",
        "            print(f'| epoch {epoch:3d} | {batch:5d}/{num_batches:5d} batches | '\n",
        "                  f'lr {lr:02.2f} | ms/batch {ms_per_batch:5.2f} | '\n",
        "                  f'loss {cur_loss:5.2f} | ppl {ppl:8.2f}')\n",
        "            total_loss = 0\n",
        "            start_time = time.time()\n",
        "\n",
        "def evaluate(model: nn.Module, eval_data: Tensor) -> float:\n",
        "    model.eval()  # turn on evaluation mode\n",
        "    total_loss = 0.\n",
        "    src_mask = generate_square_subsequent_mask(bptt).to(device)\n",
        "    with torch.no_grad():\n",
        "        for i in range(0, eval_data.size(0) - 1, bptt):\n",
        "            data, targets = get_batch(eval_data, i)\n",
        "            batch_size = data.size(0)\n",
        "            if batch_size != bptt:\n",
        "                src_mask = src_mask[:batch_size, :batch_size]\n",
        "            output = model(data, src_mask)\n",
        "            output_flat = output.view(-1, ntokens)\n",
        "            total_loss += batch_size * criterion(output_flat, targets).item()\n",
        "    return total_loss / (len(eval_data) - 1)"
      ]
    },
    {
      "cell_type": "markdown",
      "metadata": {
        "id": "mpv2YnbxQgnR"
      },
      "source": [
        "Loop over epochs. Save the model if the validation loss is the best\n",
        "we've seen so far. Adjust the learning rate after each epoch.\n",
        "\n"
      ]
    },
    {
      "cell_type": "code",
      "execution_count": 7,
      "metadata": {
        "id": "UvYsDzIZQgnR",
        "outputId": "50b27c50-307e-4748-9523-b398a52e3732",
        "colab": {
          "base_uri": "https://localhost:8080/"
        }
      },
      "outputs": [
        {
          "output_type": "stream",
          "name": "stdout",
          "text": [
            "| epoch   1 |   200/ 2928 batches | lr 5.00 | ms/batch 38.67 | loss  8.15 | ppl  3474.92\n",
            "| epoch   1 |   400/ 2928 batches | lr 5.00 | ms/batch 37.57 | loss  6.88 | ppl   968.98\n",
            "| epoch   1 |   600/ 2928 batches | lr 5.00 | ms/batch 37.39 | loss  6.44 | ppl   627.44\n",
            "| epoch   1 |   800/ 2928 batches | lr 5.00 | ms/batch 37.37 | loss  6.31 | ppl   549.67\n",
            "| epoch   1 |  1000/ 2928 batches | lr 5.00 | ms/batch 37.35 | loss  6.19 | ppl   486.77\n",
            "| epoch   1 |  1200/ 2928 batches | lr 5.00 | ms/batch 37.31 | loss  6.16 | ppl   472.42\n",
            "| epoch   1 |  1400/ 2928 batches | lr 5.00 | ms/batch 37.30 | loss  6.12 | ppl   452.90\n",
            "| epoch   1 |  1600/ 2928 batches | lr 5.00 | ms/batch 37.16 | loss  6.11 | ppl   450.33\n",
            "| epoch   1 |  1800/ 2928 batches | lr 5.00 | ms/batch 37.14 | loss  6.02 | ppl   411.46\n",
            "| epoch   1 |  2000/ 2928 batches | lr 5.00 | ms/batch 37.06 | loss  6.02 | ppl   410.97\n",
            "| epoch   1 |  2200/ 2928 batches | lr 5.00 | ms/batch 37.18 | loss  5.90 | ppl   363.84\n",
            "| epoch   1 |  2400/ 2928 batches | lr 5.00 | ms/batch 37.15 | loss  5.97 | ppl   390.14\n",
            "| epoch   1 |  2600/ 2928 batches | lr 5.00 | ms/batch 37.14 | loss  5.95 | ppl   384.78\n",
            "| epoch   1 |  2800/ 2928 batches | lr 5.00 | ms/batch 37.06 | loss  5.89 | ppl   360.26\n",
            "-----------------------------------------------------------------------------------------\n",
            "| end of epoch   1 | time: 112.98s | valid loss  5.84 | valid ppl   343.29\n",
            "-----------------------------------------------------------------------------------------\n",
            "| epoch   2 |   200/ 2928 batches | lr 4.75 | ms/batch 37.26 | loss  5.86 | ppl   352.06\n",
            "| epoch   2 |   400/ 2928 batches | lr 4.75 | ms/batch 37.14 | loss  5.85 | ppl   348.25\n",
            "| epoch   2 |   600/ 2928 batches | lr 4.75 | ms/batch 37.14 | loss  5.67 | ppl   289.23\n",
            "| epoch   2 |   800/ 2928 batches | lr 4.75 | ms/batch 37.00 | loss  5.71 | ppl   300.48\n",
            "| epoch   2 |  1000/ 2928 batches | lr 4.75 | ms/batch 37.07 | loss  5.65 | ppl   285.08\n",
            "| epoch   2 |  1200/ 2928 batches | lr 4.75 | ms/batch 37.14 | loss  5.68 | ppl   293.47\n",
            "| epoch   2 |  1400/ 2928 batches | lr 4.75 | ms/batch 37.21 | loss  5.69 | ppl   295.58\n",
            "| epoch   2 |  1600/ 2928 batches | lr 4.75 | ms/batch 37.16 | loss  5.71 | ppl   301.97\n",
            "| epoch   2 |  1800/ 2928 batches | lr 4.75 | ms/batch 37.08 | loss  5.65 | ppl   284.74\n",
            "| epoch   2 |  2000/ 2928 batches | lr 4.75 | ms/batch 37.13 | loss  5.67 | ppl   289.28\n",
            "| epoch   2 |  2200/ 2928 batches | lr 4.75 | ms/batch 37.22 | loss  5.55 | ppl   257.68\n",
            "| epoch   2 |  2400/ 2928 batches | lr 4.75 | ms/batch 37.19 | loss  5.65 | ppl   283.14\n",
            "| epoch   2 |  2600/ 2928 batches | lr 4.75 | ms/batch 37.09 | loss  5.64 | ppl   282.28\n",
            "| epoch   2 |  2800/ 2928 batches | lr 4.75 | ms/batch 37.08 | loss  5.59 | ppl   267.43\n",
            "-----------------------------------------------------------------------------------------\n",
            "| end of epoch   2 | time: 112.39s | valid loss  5.63 | valid ppl   280.00\n",
            "-----------------------------------------------------------------------------------------\n",
            "| epoch   3 |   200/ 2928 batches | lr 4.51 | ms/batch 37.30 | loss  5.60 | ppl   270.44\n",
            "| epoch   3 |   400/ 2928 batches | lr 4.51 | ms/batch 37.10 | loss  5.62 | ppl   276.77\n",
            "| epoch   3 |   600/ 2928 batches | lr 4.51 | ms/batch 37.15 | loss  5.42 | ppl   225.81\n",
            "| epoch   3 |   800/ 2928 batches | lr 4.51 | ms/batch 37.19 | loss  5.49 | ppl   243.36\n",
            "| epoch   3 |  1000/ 2928 batches | lr 4.51 | ms/batch 37.08 | loss  5.43 | ppl   228.51\n",
            "| epoch   3 |  1200/ 2928 batches | lr 4.51 | ms/batch 37.39 | loss  5.48 | ppl   238.74\n",
            "| epoch   3 |  1400/ 2928 batches | lr 4.51 | ms/batch 37.60 | loss  5.49 | ppl   242.19\n",
            "| epoch   3 |  1600/ 2928 batches | lr 4.51 | ms/batch 37.48 | loss  5.52 | ppl   249.85\n",
            "| epoch   3 |  1800/ 2928 batches | lr 4.51 | ms/batch 37.49 | loss  5.47 | ppl   236.48\n",
            "| epoch   3 |  2000/ 2928 batches | lr 4.51 | ms/batch 37.35 | loss  5.48 | ppl   240.56\n",
            "| epoch   3 |  2200/ 2928 batches | lr 4.51 | ms/batch 37.50 | loss  5.36 | ppl   213.20\n",
            "| epoch   3 |  2400/ 2928 batches | lr 4.51 | ms/batch 37.38 | loss  5.47 | ppl   237.05\n",
            "| epoch   3 |  2600/ 2928 batches | lr 4.51 | ms/batch 37.55 | loss  5.47 | ppl   238.46\n",
            "| epoch   3 |  2800/ 2928 batches | lr 4.51 | ms/batch 37.30 | loss  5.40 | ppl   222.27\n",
            "-----------------------------------------------------------------------------------------\n",
            "| end of epoch   3 | time: 113.02s | valid loss  5.58 | valid ppl   264.06\n",
            "-----------------------------------------------------------------------------------------\n"
          ]
        }
      ],
      "source": [
        "best_val_loss = float('inf')\n",
        "epochs = 3\n",
        "best_model = None\n",
        "\n",
        "for epoch in range(1, epochs + 1):\n",
        "    epoch_start_time = time.time()\n",
        "    train(model)\n",
        "    val_loss = evaluate(model, val_data)\n",
        "    val_ppl = math.exp(val_loss)\n",
        "    elapsed = time.time() - epoch_start_time\n",
        "    print('-' * 89)\n",
        "    print(f'| end of epoch {epoch:3d} | time: {elapsed:5.2f}s | '\n",
        "          f'valid loss {val_loss:5.2f} | valid ppl {val_ppl:8.2f}')\n",
        "    print('-' * 89)\n",
        "\n",
        "    if val_loss < best_val_loss:\n",
        "        best_val_loss = val_loss\n",
        "        best_model = copy.deepcopy(model)\n",
        "\n",
        "    scheduler.step()"
      ]
    },
    {
      "cell_type": "markdown",
      "metadata": {
        "id": "e_kEQw1xQgnS"
      },
      "source": [
        "Evaluate the best model on the test dataset\n",
        "-------------------------------------------\n",
        "\n",
        "\n"
      ]
    },
    {
      "cell_type": "code",
      "execution_count": 8,
      "metadata": {
        "id": "ofOP7yFhQgnS",
        "outputId": "b1a28d61-2869-4f2c-d606-05b6ccd640e7",
        "colab": {
          "base_uri": "https://localhost:8080/"
        }
      },
      "outputs": [
        {
          "output_type": "stream",
          "name": "stdout",
          "text": [
            "=========================================================================================\n",
            "| End of training | test loss  5.49 | test ppl   242.02\n",
            "=========================================================================================\n"
          ]
        }
      ],
      "source": [
        "test_loss = evaluate(best_model, test_data)\n",
        "test_ppl = math.exp(test_loss)\n",
        "print('=' * 89)\n",
        "print(f'| End of training | test loss {test_loss:5.2f} | '\n",
        "      f'test ppl {test_ppl:8.2f}')\n",
        "print('=' * 89)"
      ]
    },
    {
      "cell_type": "markdown",
      "source": [
        "# train with spsa"
      ],
      "metadata": {
        "id": "ULCweSLAVCTI"
      }
    },
    {
      "cell_type": "code",
      "source": [
        "\n",
        "class SPSA:\n",
        "    \"\"\"\n",
        "    An optimizer class that implements Simultaneous Perturbation Stochastic Approximation (SPSA)\n",
        "    \"\"\"\n",
        "    def __init__(self, a, c, A, alpha, gamma):\n",
        "        # Initialize gain parameters and decay factors\n",
        "        self.a = a\n",
        "        self.c = c\n",
        "        self.A = A\n",
        "        self.alpha = alpha\n",
        "        self.gamma = gamma\n",
        "        # counters\n",
        "        self.t = 0\n",
        "\n",
        "    def step(self, model, inputs, label, src_mask , opt_targets=None):\n",
        "        \"\"\"\n",
        "        :param current_estimate: This is the current estimate of the parameter vector\n",
        "        :return: returns the updated estimate of the vector\n",
        "        \"\"\"\n",
        "        if opt_targets==None:\n",
        "          opt_targets = [\"encoder.weight\",\"decoder.weight\",\"decoder.bias\"]\n",
        "        a_t = self.a / (self.t + 1 + self.A)**self.alpha\n",
        "        c_t = self.c / (self.t + 1)**self.gamma\n",
        "\n",
        "        # get the random perturbation vector from bernoulli distribution\n",
        "        # it has to be symmetric around zero\n",
        "        # But normal distribution does not work which makes the perturbations close to zero\n",
        "        # Also, uniform distribution should not be used since they are not around zero\n",
        "        current_param = copy.deepcopy(model.state_dict())\n",
        "        current_param_plus = current_param.copy()\n",
        "        current_param_minus = current_param.copy()\n",
        "        delta_dict = {}\n",
        "\n",
        "        for key, param in current_param.items():\n",
        "            delta = torch.randint(0,2,param.size()) * 2 - 1         \n",
        "            if key in opt_targets:\n",
        "              current_param_plus[key] = param + delta * c_t\n",
        "              current_param_minus[key] = param - delta * c_t\n",
        "            else:\n",
        "              current_param_plus[key] = param #+ delta * c_t\n",
        "              current_param_minus[key] = param #- delta * c_t\n",
        "            delta_dict[key] = delta\n",
        "\n",
        "        # measure the loss function at perturbations\n",
        "        ## calculate loss_plus\n",
        "        model.load_state_dict(current_param_plus)\n",
        "        predictions = model(inputs, src_mask)\n",
        "        loss_plus = criterion(predictions.view(-1, ntokens), label)\n",
        "#         print(\"predictions\", predictions)\n",
        "#         print(\"weights\", current_param_plus)\n",
        "#         print(\"loss_plus\",loss_plus)\n",
        "#         print(predictions, label)\n",
        "        ##  calculate loss_minus\n",
        "        model.load_state_dict(current_param_minus)\n",
        "        predictions = model(inputs, src_mask)\n",
        "        loss_minus = criterion(predictions.view(-1, ntokens), label)\n",
        "#         loss_minus.backward()\n",
        "#         print(\"---\",current_param['transformers.0.norm2.bias'])\n",
        "#         print(\"---\",current_param_plus['transformers.0.norm2.bias'])\n",
        "#         print(\"---\",current_param_minus['transformers.0.norm2.bias'])\n",
        "        for key, param in current_param.items():\n",
        "            # compute the estimate of the gradient\n",
        "            g_t = (loss_plus - loss_minus) / (2.0 * delta_dict[key] * c_t)\n",
        "            # update the estimate of the parameter\n",
        "            if key in opt_targets:\n",
        "                current_param[key] = param  - a_t * g_t\n",
        "#                 print(key, param, a_t, - a_t * g_t)\n",
        "            else:\n",
        "                current_param[key] = param #- a_t * g_t\n",
        "        # increment the counter\n",
        "        # print(key, param, - a_t * g_t)    \n",
        "        self.t += 1    \n",
        "\n",
        "        model.load_state_dict(current_param)\n",
        "   "
      ],
      "metadata": {
        "id": "P0TDfPgQTzVX"
      },
      "execution_count": 64,
      "outputs": []
    },
    {
      "cell_type": "code",
      "source": [
        "list(model.state_dict().keys())"
      ],
      "metadata": {
        "id": "bZrjSBEbiQDu",
        "outputId": "bc9a474d-a554-49aa-b74d-2db3d7512acc",
        "colab": {
          "base_uri": "https://localhost:8080/"
        }
      },
      "execution_count": 59,
      "outputs": [
        {
          "output_type": "execute_result",
          "data": {
            "text/plain": [
              "['pos_encoder.pe',\n",
              " 'transformer_encoder.layers.0.self_attn.in_proj_weight',\n",
              " 'transformer_encoder.layers.0.self_attn.in_proj_bias',\n",
              " 'transformer_encoder.layers.0.self_attn.out_proj.weight',\n",
              " 'transformer_encoder.layers.0.self_attn.out_proj.bias',\n",
              " 'transformer_encoder.layers.0.linear1.weight',\n",
              " 'transformer_encoder.layers.0.linear1.bias',\n",
              " 'transformer_encoder.layers.0.linear2.weight',\n",
              " 'transformer_encoder.layers.0.linear2.bias',\n",
              " 'transformer_encoder.layers.0.norm1.weight',\n",
              " 'transformer_encoder.layers.0.norm1.bias',\n",
              " 'transformer_encoder.layers.0.norm2.weight',\n",
              " 'transformer_encoder.layers.0.norm2.bias',\n",
              " 'transformer_encoder.layers.1.self_attn.in_proj_weight',\n",
              " 'transformer_encoder.layers.1.self_attn.in_proj_bias',\n",
              " 'transformer_encoder.layers.1.self_attn.out_proj.weight',\n",
              " 'transformer_encoder.layers.1.self_attn.out_proj.bias',\n",
              " 'transformer_encoder.layers.1.linear1.weight',\n",
              " 'transformer_encoder.layers.1.linear1.bias',\n",
              " 'transformer_encoder.layers.1.linear2.weight',\n",
              " 'transformer_encoder.layers.1.linear2.bias',\n",
              " 'transformer_encoder.layers.1.norm1.weight',\n",
              " 'transformer_encoder.layers.1.norm1.bias',\n",
              " 'transformer_encoder.layers.1.norm2.weight',\n",
              " 'transformer_encoder.layers.1.norm2.bias',\n",
              " 'encoder.weight',\n",
              " 'decoder.weight',\n",
              " 'decoder.bias']"
            ]
          },
          "metadata": {},
          "execution_count": 59
        }
      ]
    },
    {
      "cell_type": "code",
      "source": [
        "max_iter = 10000\n",
        "optimizer_spsa = SPSA(a=9e-1, c=1.0, A=max_iter/10, alpha=0.6, gamma=0.1)\n",
        "\n",
        "def train_spsa(model: nn.Module, opt_targets=None) -> None:\n",
        "    model.train()  # turn on train mode\n",
        "    total_loss = 0.\n",
        "    log_interval = 200\n",
        "    start_time = time.time()\n",
        "    src_mask = generate_square_subsequent_mask(bptt).to(device)\n",
        "\n",
        "    num_batches = len(train_data) // bptt\n",
        "    for batch, i in enumerate(range(0, train_data.size(0) - 1, bptt)):\n",
        "        data, targets = get_batch(train_data, i)\n",
        "        batch_size = data.size(0)\n",
        "        if batch_size != bptt:  # only on last batch\n",
        "            src_mask = src_mask[:batch_size, :batch_size]\n",
        "        output = model(data, src_mask)\n",
        "        loss = criterion(output.view(-1, ntokens), targets)\n",
        "\n",
        "        # optimizer.zero_grad()\n",
        "        loss.backward()\n",
        "        torch.nn.utils.clip_grad_norm_(model.parameters(), 0.5)\n",
        "        # optimizer.step()\n",
        "        optimizer_spsa.step(model, data, targets, src_mask, opt_targets)\n",
        "        total_loss += loss.item()\n",
        "        if batch % log_interval == 0 and batch > 0:\n",
        "            lr = scheduler.get_last_lr()[0]\n",
        "            ms_per_batch = (time.time() - start_time) * 1000 / log_interval\n",
        "            cur_loss = total_loss / log_interval\n",
        "            ppl = math.exp(cur_loss)\n",
        "            print(f'| epoch {epoch:3d} | {batch:5d}/{num_batches:5d} batches | '\n",
        "                  f'lr {lr:02.2f} | ms/batch {ms_per_batch:5.2f} | '\n",
        "                  f'loss {cur_loss:5.2f} | ppl {ppl:8.2f}')\n",
        "            total_loss = 0\n",
        "            start_time = time.time()"
      ],
      "metadata": {
        "id": "xbLn6rIHSnqn"
      },
      "execution_count": 65,
      "outputs": []
    },
    {
      "cell_type": "code",
      "source": [
        "ntokens = len(vocab)  # size of vocabulary\n",
        "emsize = 200  # embedding dimension\n",
        "d_hid = 200  # dimension of the feedforward network model in nn.TransformerEncoder\n",
        "nlayers = 2  # number of nn.TransformerEncoderLayer in nn.TransformerEncoder\n",
        "nhead = 2  # number of heads in nn.MultiheadAttention\n",
        "dropout = 0.2  # dropout probability\n",
        "model = TransformerModel(ntokens, emsize, nhead, d_hid, nlayers, dropout).to(device)"
      ],
      "metadata": {
        "id": "u3QlMmgskStW"
      },
      "execution_count": 66,
      "outputs": []
    },
    {
      "cell_type": "code",
      "source": [
        "torch.set_default_tensor_type('torch.cuda.FloatTensor')\n",
        "\n",
        "\n",
        "best_val_loss = float('inf')\n",
        "epochs = 3\n",
        "best_model = None\n",
        "\n",
        "for epoch in range(1, epochs + 1):\n",
        "    epoch_start_time = time.time()\n",
        "    train_spsa(model)\n",
        "    val_loss = evaluate(model, val_data)\n",
        "    val_ppl = math.exp(val_loss)\n",
        "    elapsed = time.time() - epoch_start_time\n",
        "    print('-' * 89)\n",
        "    print(f'| end of epoch {epoch:3d} | time: {elapsed:5.2f}s | '\n",
        "          f'valid loss {val_loss:5.2f} | valid ppl {val_ppl:8.2f}')\n",
        "    print('-' * 89)\n",
        "\n",
        "    if val_loss < best_val_loss:\n",
        "        best_val_loss = val_loss\n",
        "        best_model = copy.deepcopy(model)\n",
        "\n",
        "    scheduler.step()"
      ],
      "metadata": {
        "id": "MiYQjsHDXGad",
        "outputId": "145e6ac2-e6bc-4492-a258-66f500c2da5b",
        "colab": {
          "base_uri": "https://localhost:8080/"
        }
      },
      "execution_count": 58,
      "outputs": [
        {
          "output_type": "stream",
          "name": "stdout",
          "text": [
            "| epoch   1 |   200/ 2928 batches | lr 4.29 | ms/batch 75.41 | loss 55.62 | ppl 1426428548985125720817664.00\n",
            "| epoch   1 |   400/ 2928 batches | lr 4.29 | ms/batch 74.53 | loss 54.90 | ppl 693116983013783243849728.00\n",
            "| epoch   1 |   600/ 2928 batches | lr 4.29 | ms/batch 74.40 | loss 54.54 | ppl 485031183358012902342656.00\n",
            "| epoch   1 |   800/ 2928 batches | lr 4.29 | ms/batch 74.41 | loss 54.09 | ppl 310948258195586903179264.00\n",
            "| epoch   1 |  1000/ 2928 batches | lr 4.29 | ms/batch 74.27 | loss 53.45 | ppl 163842425800033216495616.00\n",
            "| epoch   1 |  1200/ 2928 batches | lr 4.29 | ms/batch 74.31 | loss 52.93 | ppl 96673308580555717083136.00\n",
            "| epoch   1 |  1400/ 2928 batches | lr 4.29 | ms/batch 74.23 | loss 52.44 | ppl 59240248544478567071744.00\n",
            "| epoch   1 |  1600/ 2928 batches | lr 4.29 | ms/batch 74.52 | loss 52.14 | ppl 44014839079273209266176.00\n",
            "| epoch   1 |  1800/ 2928 batches | lr 4.29 | ms/batch 74.53 | loss 51.66 | ppl 27232216837862413303808.00\n",
            "| epoch   1 |  2000/ 2928 batches | lr 4.29 | ms/batch 74.62 | loss 51.51 | ppl 23461189868698621444096.00\n",
            "| epoch   1 |  2200/ 2928 batches | lr 4.29 | ms/batch 74.48 | loss 50.83 | ppl 11838637034293025570816.00\n",
            "| epoch   1 |  2400/ 2928 batches | lr 4.29 | ms/batch 74.52 | loss 50.59 | ppl 9396684431367559184384.00\n",
            "| epoch   1 |  2600/ 2928 batches | lr 4.29 | ms/batch 74.55 | loss 50.24 | ppl 6595055200549782683648.00\n",
            "| epoch   1 |  2800/ 2928 batches | lr 4.29 | ms/batch 74.25 | loss 49.94 | ppl 4872556182973639032832.00\n",
            "-----------------------------------------------------------------------------------------\n",
            "| end of epoch   1 | time: 221.82s | valid loss 48.07 | valid ppl 751820875848723333120.00\n",
            "-----------------------------------------------------------------------------------------\n",
            "| epoch   2 |   200/ 2928 batches | lr 4.07 | ms/batch 74.69 | loss 49.86 | ppl 4491916283794240831488.00\n",
            "| epoch   2 |   400/ 2928 batches | lr 4.07 | ms/batch 74.58 | loss 49.10 | ppl 2114814331330044887040.00\n",
            "| epoch   2 |   600/ 2928 batches | lr 4.07 | ms/batch 74.53 | loss 49.04 | ppl 1975643501742580826112.00\n",
            "| epoch   2 |   800/ 2928 batches | lr 4.07 | ms/batch 74.55 | loss 49.19 | ppl 2300252277386508238848.00\n",
            "| epoch   2 |  1000/ 2928 batches | lr 4.07 | ms/batch 74.43 | loss 48.80 | ppl 1554600692699733688320.00\n",
            "| epoch   2 |  1200/ 2928 batches | lr 4.07 | ms/batch 74.54 | loss 48.56 | ppl 1223321306350110900224.00\n",
            "| epoch   2 |  1400/ 2928 batches | lr 4.07 | ms/batch 74.47 | loss 48.16 | ppl 823283453002949328896.00\n",
            "| epoch   2 |  1600/ 2928 batches | lr 4.07 | ms/batch 74.34 | loss 48.04 | ppl 727777402017920974848.00\n",
            "| epoch   2 |  1800/ 2928 batches | lr 4.07 | ms/batch 74.44 | loss 47.76 | ppl 554137460879241117696.00\n",
            "| epoch   2 |  2000/ 2928 batches | lr 4.07 | ms/batch 74.46 | loss 47.88 | ppl 624239639192792203264.00\n",
            "| epoch   2 |  2200/ 2928 batches | lr 4.07 | ms/batch 74.38 | loss 47.27 | ppl 338128674567841841152.00\n",
            "| epoch   2 |  2400/ 2928 batches | lr 4.07 | ms/batch 74.40 | loss 47.26 | ppl 336250907979076730880.00\n",
            "| epoch   2 |  2600/ 2928 batches | lr 4.07 | ms/batch 74.38 | loss 46.93 | ppl 241051340190627037184.00\n",
            "| epoch   2 |  2800/ 2928 batches | lr 4.07 | ms/batch 74.48 | loss 46.72 | ppl 195852053711124332544.00\n",
            "-----------------------------------------------------------------------------------------\n",
            "| end of epoch   2 | time: 221.79s | valid loss 44.06 | valid ppl 13674570335189424128.00\n",
            "-----------------------------------------------------------------------------------------\n",
            "| epoch   3 |   200/ 2928 batches | lr 3.87 | ms/batch 74.90 | loss 46.72 | ppl 194886425859286466560.00\n",
            "| epoch   3 |   400/ 2928 batches | lr 3.87 | ms/batch 74.40 | loss 46.10 | ppl 104496924662316367872.00\n",
            "| epoch   3 |   600/ 2928 batches | lr 3.87 | ms/batch 74.46 | loss 46.23 | ppl 119240245872777281536.00\n",
            "| epoch   3 |   800/ 2928 batches | lr 3.87 | ms/batch 74.38 | loss 46.47 | ppl 151941738214169575424.00\n",
            "| epoch   3 |  1000/ 2928 batches | lr 3.87 | ms/batch 74.28 | loss 46.25 | ppl 122363436617524084736.00\n",
            "| epoch   3 |  1200/ 2928 batches | lr 3.87 | ms/batch 74.33 | loss 46.04 | ppl 98575882192389062656.00\n",
            "| epoch   3 |  1400/ 2928 batches | lr 3.87 | ms/batch 74.46 | loss 45.69 | ppl 69844443005461069824.00\n",
            "| epoch   3 |  1600/ 2928 batches | lr 3.87 | ms/batch 74.41 | loss 45.63 | ppl 65398540290923520000.00\n",
            "| epoch   3 |  1800/ 2928 batches | lr 3.87 | ms/batch 74.40 | loss 45.55 | ppl 60591538688069181440.00\n",
            "| epoch   3 |  2000/ 2928 batches | lr 3.87 | ms/batch 74.40 | loss 45.69 | ppl 69810760372777009152.00\n",
            "| epoch   3 |  2200/ 2928 batches | lr 3.87 | ms/batch 74.43 | loss 45.09 | ppl 38076475722567589888.00\n",
            "| epoch   3 |  2400/ 2928 batches | lr 3.87 | ms/batch 74.36 | loss 45.14 | ppl 40293522457040125952.00\n",
            "| epoch   3 |  2600/ 2928 batches | lr 3.87 | ms/batch 74.43 | loss 44.88 | ppl 30989546682969579520.00\n",
            "| epoch   3 |  2800/ 2928 batches | lr 3.87 | ms/batch 74.48 | loss 44.83 | ppl 29371938698039341056.00\n",
            "-----------------------------------------------------------------------------------------\n",
            "| end of epoch   3 | time: 221.64s | valid loss 41.58 | valid ppl 1142644192218747392.00\n",
            "-----------------------------------------------------------------------------------------\n"
          ]
        }
      ]
    },
    {
      "cell_type": "code",
      "source": [
        "test_loss = evaluate(best_model, test_data)\n",
        "test_ppl = math.exp(test_loss)\n",
        "print('=' * 89)\n",
        "print(f'| End of training | test loss {test_loss:5.2f} | '\n",
        "      f'test ppl {test_ppl:8.2f}')\n",
        "print('=' * 89)"
      ],
      "metadata": {
        "id": "-fshKdJcj3WF",
        "outputId": "1b559958-a53b-4c98-b07d-a7d883f649ec",
        "colab": {
          "base_uri": "https://localhost:8080/"
        }
      },
      "execution_count": 63,
      "outputs": [
        {
          "output_type": "stream",
          "name": "stdout",
          "text": [
            "=========================================================================================\n",
            "| End of training | test loss 41.48 | test ppl 1030298606960375936.00\n",
            "=========================================================================================\n"
          ]
        }
      ]
    },
    {
      "cell_type": "code",
      "source": [
        "ntokens = len(vocab)  # size of vocabulary\n",
        "emsize = 200  # embedding dimension\n",
        "d_hid = 200  # dimension of the feedforward network model in nn.TransformerEncoder\n",
        "nlayers = 2  # number of nn.TransformerEncoderLayer in nn.TransformerEncoder\n",
        "nhead = 2  # number of heads in nn.MultiheadAttention\n",
        "dropout = 0.2  # dropout probability\n",
        "model = TransformerModel(ntokens, emsize, nhead, d_hid, nlayers, dropout).to(device)"
      ],
      "metadata": {
        "id": "fhGqfQFQkVdp"
      },
      "execution_count": 71,
      "outputs": []
    },
    {
      "cell_type": "code",
      "source": [
        "\n",
        "# 全てのパラメータをSPSAで更新\n",
        "\n",
        "torch.set_default_tensor_type('torch.cuda.FloatTensor')\n",
        "\n",
        "\n",
        "best_val_loss = float('inf')\n",
        "epochs = 3\n",
        "best_model = None\n",
        "\n",
        "for epoch in range(1, epochs + 1):\n",
        "    epoch_start_time = time.time()\n",
        "    train_spsa(model, opt_targets=[\"encoder.weight\",\"decoder.weight\",\"decoder.bias\"])\n",
        "    val_loss = evaluate(model, val_data)\n",
        "    val_ppl = math.exp(val_loss)\n",
        "    elapsed = time.time() - epoch_start_time\n",
        "    print('-' * 89)\n",
        "    print(f'| end of epoch {epoch:3d} | time: {elapsed:5.2f}s | '\n",
        "          f'valid loss {val_loss:5.2f} | valid ppl {val_ppl:8.2f}')\n",
        "    print('-' * 89)\n",
        "\n",
        "    if val_loss < best_val_loss:\n",
        "        best_val_loss = val_loss\n",
        "        best_model = copy.deepcopy(model)\n",
        "\n",
        "    scheduler.step()"
      ],
      "metadata": {
        "id": "U5PARhyOlp3e",
        "outputId": "11b4a9dc-8f6b-4ae9-fe81-bbcf949d865c",
        "colab": {
          "base_uri": "https://localhost:8080/"
        }
      },
      "execution_count": 72,
      "outputs": [
        {
          "output_type": "stream",
          "name": "stdout",
          "text": [
            "| epoch   1 |   200/ 2928 batches | lr 3.15 | ms/batch 75.66 | loss 10.62 | ppl 41127.01\n",
            "| epoch   1 |   400/ 2928 batches | lr 3.15 | ms/batch 74.81 | loss 10.46 | ppl 35017.76\n",
            "| epoch   1 |   600/ 2928 batches | lr 3.15 | ms/batch 74.57 | loss 10.35 | ppl 31397.23\n",
            "| epoch   1 |   800/ 2928 batches | lr 3.15 | ms/batch 74.62 | loss 10.25 | ppl 28211.79\n",
            "| epoch   1 |  1000/ 2928 batches | lr 3.15 | ms/batch 74.57 | loss 10.16 | ppl 25953.29\n",
            "| epoch   1 |  1200/ 2928 batches | lr 3.15 | ms/batch 74.63 | loss 10.08 | ppl 23933.00\n",
            "| epoch   1 |  1400/ 2928 batches | lr 3.15 | ms/batch 74.57 | loss 10.00 | ppl 22076.41\n",
            "| epoch   1 |  1600/ 2928 batches | lr 3.15 | ms/batch 74.58 | loss  9.93 | ppl 20579.23\n",
            "| epoch   1 |  1800/ 2928 batches | lr 3.15 | ms/batch 74.49 | loss  9.87 | ppl 19259.88\n",
            "| epoch   1 |  2000/ 2928 batches | lr 3.15 | ms/batch 74.56 | loss  9.81 | ppl 18305.83\n",
            "| epoch   1 |  2200/ 2928 batches | lr 3.15 | ms/batch 74.64 | loss  9.76 | ppl 17307.55\n",
            "| epoch   1 |  2400/ 2928 batches | lr 3.15 | ms/batch 74.58 | loss  9.75 | ppl 17235.17\n",
            "| epoch   1 |  2600/ 2928 batches | lr 3.15 | ms/batch 74.46 | loss  9.73 | ppl 16859.48\n",
            "| epoch   1 |  2800/ 2928 batches | lr 3.15 | ms/batch 74.47 | loss  9.79 | ppl 17785.25\n",
            "-----------------------------------------------------------------------------------------\n",
            "| end of epoch   1 | time: 222.32s | valid loss 10.05 | valid ppl 23260.35\n",
            "-----------------------------------------------------------------------------------------\n",
            "| epoch   2 |   200/ 2928 batches | lr 2.99 | ms/batch 74.89 | loss 10.20 | ppl 26793.87\n",
            "| epoch   2 |   400/ 2928 batches | lr 2.99 | ms/batch 74.49 | loss 10.27 | ppl 28924.24\n",
            "| epoch   2 |   600/ 2928 batches | lr 2.99 | ms/batch 74.57 | loss 10.50 | ppl 36150.21\n",
            "| epoch   2 |   800/ 2928 batches | lr 2.99 | ms/batch 74.51 | loss 10.83 | ppl 50296.88\n",
            "| epoch   2 |  1000/ 2928 batches | lr 2.99 | ms/batch 74.56 | loss 11.13 | ppl 68424.49\n",
            "| epoch   2 |  1200/ 2928 batches | lr 2.99 | ms/batch 74.63 | loss 11.40 | ppl 89561.82\n",
            "| epoch   2 |  1400/ 2928 batches | lr 2.99 | ms/batch 74.52 | loss 11.67 | ppl 116622.93\n",
            "| epoch   2 |  1600/ 2928 batches | lr 2.99 | ms/batch 74.51 | loss 12.00 | ppl 162585.28\n",
            "| epoch   2 |  1800/ 2928 batches | lr 2.99 | ms/batch 74.62 | loss 12.22 | ppl 203332.90\n",
            "| epoch   2 |  2000/ 2928 batches | lr 2.99 | ms/batch 74.64 | loss 12.60 | ppl 297948.98\n",
            "| epoch   2 |  2200/ 2928 batches | lr 2.99 | ms/batch 74.57 | loss 12.71 | ppl 332179.16\n",
            "| epoch   2 |  2400/ 2928 batches | lr 2.99 | ms/batch 74.43 | loss 12.91 | ppl 405431.34\n",
            "| epoch   2 |  2600/ 2928 batches | lr 2.99 | ms/batch 74.62 | loss 12.98 | ppl 435263.28\n",
            "| epoch   2 |  2800/ 2928 batches | lr 2.99 | ms/batch 74.51 | loss 13.18 | ppl 528821.26\n",
            "-----------------------------------------------------------------------------------------\n",
            "| end of epoch   2 | time: 222.09s | valid loss 13.92 | valid ppl 1109159.75\n",
            "-----------------------------------------------------------------------------------------\n",
            "| epoch   3 |   200/ 2928 batches | lr 2.84 | ms/batch 74.96 | loss 13.45 | ppl 691960.37\n",
            "| epoch   3 |   400/ 2928 batches | lr 2.84 | ms/batch 74.61 | loss 13.42 | ppl 672107.17\n",
            "| epoch   3 |   600/ 2928 batches | lr 2.84 | ms/batch 74.64 | loss 13.55 | ppl 769846.57\n",
            "| epoch   3 |   800/ 2928 batches | lr 2.84 | ms/batch 74.56 | loss 13.72 | ppl 909714.04\n",
            "| epoch   3 |  1000/ 2928 batches | lr 2.84 | ms/batch 74.54 | loss 13.68 | ppl 869794.83\n",
            "| epoch   3 |  1200/ 2928 batches | lr 2.84 | ms/batch 74.47 | loss 13.76 | ppl 946617.19\n",
            "| epoch   3 |  1400/ 2928 batches | lr 2.84 | ms/batch 74.36 | loss 13.77 | ppl 957494.07\n",
            "| epoch   3 |  1600/ 2928 batches | lr 2.84 | ms/batch 74.39 | loss 13.84 | ppl 1020516.60\n",
            "| epoch   3 |  1800/ 2928 batches | lr 2.84 | ms/batch 74.34 | loss 13.91 | ppl 1100651.23\n",
            "| epoch   3 |  2000/ 2928 batches | lr 2.84 | ms/batch 74.49 | loss 14.08 | ppl 1307180.17\n",
            "| epoch   3 |  2200/ 2928 batches | lr 2.84 | ms/batch 74.54 | loss 13.93 | ppl 1118010.19\n",
            "| epoch   3 |  2400/ 2928 batches | lr 2.84 | ms/batch 74.46 | loss 13.80 | ppl 986527.46\n",
            "| epoch   3 |  2600/ 2928 batches | lr 2.84 | ms/batch 74.44 | loss 13.71 | ppl 895450.55\n",
            "| epoch   3 |  2800/ 2928 batches | lr 2.84 | ms/batch 74.51 | loss 13.70 | ppl 894135.55\n",
            "-----------------------------------------------------------------------------------------\n",
            "| end of epoch   3 | time: 221.89s | valid loss 14.23 | valid ppl 1517425.52\n",
            "-----------------------------------------------------------------------------------------\n"
          ]
        }
      ]
    },
    {
      "cell_type": "code",
      "source": [
        "\n",
        "!nvidia-smi "
      ],
      "metadata": {
        "id": "3JwmNpYcuFYd",
        "outputId": "9f150eca-9697-4166-ecba-58996c2c414f",
        "colab": {
          "base_uri": "https://localhost:8080/"
        }
      },
      "execution_count": 73,
      "outputs": [
        {
          "output_type": "stream",
          "name": "stdout",
          "text": [
            "Sun Jan  9 12:02:57 2022       \n",
            "+-----------------------------------------------------------------------------+\n",
            "| NVIDIA-SMI 495.44       Driver Version: 460.32.03    CUDA Version: 11.2     |\n",
            "|-------------------------------+----------------------+----------------------+\n",
            "| GPU  Name        Persistence-M| Bus-Id        Disp.A | Volatile Uncorr. ECC |\n",
            "| Fan  Temp  Perf  Pwr:Usage/Cap|         Memory-Usage | GPU-Util  Compute M. |\n",
            "|                               |                      |               MIG M. |\n",
            "|===============================+======================+======================|\n",
            "|   0  Tesla K80           Off  | 00000000:00:04.0 Off |                    0 |\n",
            "| N/A   73C    P0    76W / 149W |   2929MiB / 11441MiB |      0%      Default |\n",
            "|                               |                      |                  N/A |\n",
            "+-------------------------------+----------------------+----------------------+\n",
            "                                                                               \n",
            "+-----------------------------------------------------------------------------+\n",
            "| Processes:                                                                  |\n",
            "|  GPU   GI   CI        PID   Type   Process name                  GPU Memory |\n",
            "|        ID   ID                                                   Usage      |\n",
            "|=============================================================================|\n",
            "|  No running processes found                                                 |\n",
            "+-----------------------------------------------------------------------------+\n"
          ]
        }
      ]
    },
    {
      "cell_type": "code",
      "source": [
        "# 全てのパラメータをSPSAで更新\n",
        "\n",
        "torch.set_default_tensor_type('torch.cuda.FloatTensor')\n",
        "\n",
        "\n",
        "best_val_loss = float('inf')\n",
        "epochs = 3\n",
        "best_model = None\n",
        "\n",
        "for epoch in range(1, epochs + 1):\n",
        "    epoch_start_time = time.time()\n",
        "    train_spsa(model, opt_targets=model.state_dict().keys())\n",
        "    val_loss = evaluate(model, val_data)\n",
        "    val_ppl = math.exp(val_loss)\n",
        "    elapsed = time.time() - epoch_start_time\n",
        "    print('-' * 89)\n",
        "    print(f'| end of epoch {epoch:3d} | time: {elapsed:5.2f}s | '\n",
        "          f'valid loss {val_loss:5.2f} | valid ppl {val_ppl:8.2f}')\n",
        "    print('-' * 89)\n",
        "\n",
        "    if val_loss < best_val_loss:\n",
        "        best_val_loss = val_loss\n",
        "        best_model = copy.deepcopy(model)\n",
        "\n",
        "    scheduler.step()"
      ],
      "metadata": {
        "id": "NZNIGUzuUaix",
        "outputId": "e99419c0-ce9f-4893-f004-4d97e7dbf3e3",
        "colab": {
          "base_uri": "https://localhost:8080/",
          "height": 550
        }
      },
      "execution_count": 68,
      "outputs": [
        {
          "output_type": "stream",
          "name": "stdout",
          "text": [
            "| epoch   1 |   200/ 2928 batches | lr 3.68 | ms/batch 76.42 | loss 24.15 | ppl 30739406971.32\n",
            "| epoch   1 |   400/ 2928 batches | lr 3.68 | ms/batch 75.74 | loss 40.60 | ppl 429427161454926400.00\n",
            "| epoch   1 |   600/ 2928 batches | lr 3.68 | ms/batch 75.56 | loss 62.54 | ppl 1453516692039705632591314944.00\n",
            "| epoch   1 |   800/ 2928 batches | lr 3.68 | ms/batch 75.34 | loss 93.71 | ppl 49750002074957878760870046144511246073856.00\n",
            "| epoch   1 |  1000/ 2928 batches | lr 3.68 | ms/batch 74.62 | loss 152.81 | ppl 2308629779451285252035598957565373098143028052492586007224955961344.00\n",
            "| epoch   1 |  1200/ 2928 batches | lr 3.68 | ms/batch 74.73 | loss 237.81 | ppl 19037977400566979990645582154775349097392989533864816480179853861807259855279749924182652722933842051072.00\n",
            "| epoch   1 |  1400/ 2928 batches | lr 3.68 | ms/batch 74.76 | loss 373.69 | ppl 1958757239857824052327303446466087937015977981438664218320543013250273224399163953375109954051306237047914272510717069199621275042086120734061758065028426733977600.00\n",
            "| epoch   1 |  1600/ 2928 batches | lr 3.68 | ms/batch 74.65 | loss 562.87 | ppl 28288223049975067523751535223116092832878473584372043398079462742511097670989654549870889401535939727876385336279568542813963633900872439130819537425156180294603125026641766213465334694061564526299439323067787877056514009804470956319922209161216.00\n"
          ]
        },
        {
          "output_type": "error",
          "ename": "OverflowError",
          "evalue": "ignored",
          "traceback": [
            "\u001b[0;31m---------------------------------------------------------------------------\u001b[0m",
            "\u001b[0;31mOverflowError\u001b[0m                             Traceback (most recent call last)",
            "\u001b[0;32m<ipython-input-68-e5fa3cc799e3>\u001b[0m in \u001b[0;36m<module>\u001b[0;34m()\u001b[0m\n\u001b[1;32m      8\u001b[0m \u001b[0;32mfor\u001b[0m \u001b[0mepoch\u001b[0m \u001b[0;32min\u001b[0m \u001b[0mrange\u001b[0m\u001b[0;34m(\u001b[0m\u001b[0;36m1\u001b[0m\u001b[0;34m,\u001b[0m \u001b[0mepochs\u001b[0m \u001b[0;34m+\u001b[0m \u001b[0;36m1\u001b[0m\u001b[0;34m)\u001b[0m\u001b[0;34m:\u001b[0m\u001b[0;34m\u001b[0m\u001b[0;34m\u001b[0m\u001b[0m\n\u001b[1;32m      9\u001b[0m     \u001b[0mepoch_start_time\u001b[0m \u001b[0;34m=\u001b[0m \u001b[0mtime\u001b[0m\u001b[0;34m.\u001b[0m\u001b[0mtime\u001b[0m\u001b[0;34m(\u001b[0m\u001b[0;34m)\u001b[0m\u001b[0;34m\u001b[0m\u001b[0;34m\u001b[0m\u001b[0m\n\u001b[0;32m---> 10\u001b[0;31m     \u001b[0mtrain_spsa\u001b[0m\u001b[0;34m(\u001b[0m\u001b[0mmodel\u001b[0m\u001b[0;34m,\u001b[0m \u001b[0mopt_targets\u001b[0m\u001b[0;34m=\u001b[0m\u001b[0mmodel\u001b[0m\u001b[0;34m.\u001b[0m\u001b[0mstate_dict\u001b[0m\u001b[0;34m(\u001b[0m\u001b[0;34m)\u001b[0m\u001b[0;34m.\u001b[0m\u001b[0mkeys\u001b[0m\u001b[0;34m(\u001b[0m\u001b[0;34m)\u001b[0m\u001b[0;34m)\u001b[0m\u001b[0;34m\u001b[0m\u001b[0;34m\u001b[0m\u001b[0m\n\u001b[0m\u001b[1;32m     11\u001b[0m     \u001b[0mval_loss\u001b[0m \u001b[0;34m=\u001b[0m \u001b[0mevaluate\u001b[0m\u001b[0;34m(\u001b[0m\u001b[0mmodel\u001b[0m\u001b[0;34m,\u001b[0m \u001b[0mval_data\u001b[0m\u001b[0;34m)\u001b[0m\u001b[0;34m\u001b[0m\u001b[0;34m\u001b[0m\u001b[0m\n\u001b[1;32m     12\u001b[0m     \u001b[0mval_ppl\u001b[0m \u001b[0;34m=\u001b[0m \u001b[0mmath\u001b[0m\u001b[0;34m.\u001b[0m\u001b[0mexp\u001b[0m\u001b[0;34m(\u001b[0m\u001b[0mval_loss\u001b[0m\u001b[0;34m)\u001b[0m\u001b[0;34m\u001b[0m\u001b[0;34m\u001b[0m\u001b[0m\n",
            "\u001b[0;32m<ipython-input-65-23b426da3755>\u001b[0m in \u001b[0;36mtrain_spsa\u001b[0;34m(model, opt_targets)\u001b[0m\n\u001b[1;32m     28\u001b[0m             \u001b[0mms_per_batch\u001b[0m \u001b[0;34m=\u001b[0m \u001b[0;34m(\u001b[0m\u001b[0mtime\u001b[0m\u001b[0;34m.\u001b[0m\u001b[0mtime\u001b[0m\u001b[0;34m(\u001b[0m\u001b[0;34m)\u001b[0m \u001b[0;34m-\u001b[0m \u001b[0mstart_time\u001b[0m\u001b[0;34m)\u001b[0m \u001b[0;34m*\u001b[0m \u001b[0;36m1000\u001b[0m \u001b[0;34m/\u001b[0m \u001b[0mlog_interval\u001b[0m\u001b[0;34m\u001b[0m\u001b[0;34m\u001b[0m\u001b[0m\n\u001b[1;32m     29\u001b[0m             \u001b[0mcur_loss\u001b[0m \u001b[0;34m=\u001b[0m \u001b[0mtotal_loss\u001b[0m \u001b[0;34m/\u001b[0m \u001b[0mlog_interval\u001b[0m\u001b[0;34m\u001b[0m\u001b[0;34m\u001b[0m\u001b[0m\n\u001b[0;32m---> 30\u001b[0;31m             \u001b[0mppl\u001b[0m \u001b[0;34m=\u001b[0m \u001b[0mmath\u001b[0m\u001b[0;34m.\u001b[0m\u001b[0mexp\u001b[0m\u001b[0;34m(\u001b[0m\u001b[0mcur_loss\u001b[0m\u001b[0;34m)\u001b[0m\u001b[0;34m\u001b[0m\u001b[0;34m\u001b[0m\u001b[0m\n\u001b[0m\u001b[1;32m     31\u001b[0m             print(f'| epoch {epoch:3d} | {batch:5d}/{num_batches:5d} batches | '\n\u001b[1;32m     32\u001b[0m                   \u001b[0;34mf'lr {lr:02.2f} | ms/batch {ms_per_batch:5.2f} | '\u001b[0m\u001b[0;34m\u001b[0m\u001b[0;34m\u001b[0m\u001b[0m\n",
            "\u001b[0;31mOverflowError\u001b[0m: math range error"
          ]
        }
      ]
    },
    {
      "cell_type": "markdown",
      "source": [
        "# debug"
      ],
      "metadata": {
        "id": "yRpPRfoeXn_z"
      }
    },
    {
      "cell_type": "code",
      "source": [
        "\n",
        "class SPSA:\n",
        "    \"\"\"\n",
        "    An optimizer class that implements Simultaneous Perturbation Stochastic Approximation (SPSA)\n",
        "    \"\"\"\n",
        "    def __init__(self, a, c, A, alpha, gamma, loss_function):\n",
        "        # Initialize gain parameters and decay factors\n",
        "        self.a = a\n",
        "        self.c = c\n",
        "        self.A = A\n",
        "        self.alpha = alpha\n",
        "        self.gamma = gamma\n",
        "        self.loss_function = loss_function\n",
        "\n",
        "        # counters\n",
        "        self.t = 0\n",
        "\n",
        "    def step(self, model, inputs, label, src_mask , opt_targets):\n",
        "        \"\"\"\n",
        "        :param current_estimate: This is the current estimate of the parameter vector\n",
        "        :return: returns the updated estimate of the vector\n",
        "        \"\"\"\n",
        "        opt_targets = [\"encoder.weight\",\"decoder.weight\",\"decoder.bias\"]\n",
        "        # opt_targets = ['transformers.0.attn.k_linear.weight', 'transformers.0.attn.q_linear.weight', 'transformers.0.attn.v_linear.weight']\n",
        "#         opt_targets = ['transformers.0.ffn.linear_1.weight', 'transformers.0.ffn.linear_1.bias', 'transformers.0.ffn.linear_2.weight', 'transformers.0.ffn.linear_2.bias', 'class_logits.weight', 'class_logits.bias']\n",
        "#         [ 'transformers.0.norm2.bias','transformers.0.attn.k_linear.weight', 'transformers.0.attn.q_linear.weight', 'transformers.0.attn.v_linear.weight', 'transformers.0.attn.combine_heads.weight', 'transformers.0.ffn.linear_1.weight', 'transformers.0.ffn.linear_1.bias', 'transformers.0.ffn.linear_2.weight', 'transformers.0.ffn.linear_2.bias', 'class_logits.weight', 'class_logits.bias']\n",
        "#         ['token_embedding.weight', 'pos_embedding.pe', 'transformers.0.norm1.weight', 'transformers.0.norm1.bias', 'transformers.0.norm2.weight', 'transformers.0.norm2.bias', 'transformers.0.attn.k_linear.weight', 'transformers.0.attn.q_linear.weight', 'transformers.0.attn.v_linear.weight', 'transformers.0.attn.combine_heads.weight', 'transformers.0.ffn.linear_1.weight', 'transformers.0.ffn.linear_1.bias', 'transformers.0.ffn.linear_2.weight', 'transformers.0.ffn.linear_2.bias', 'class_logits.weight', 'class_logits.bias']\n",
        "#         [ 'transformers.0.ffn.linear_1.weight', 'transformers.0.ffn.linear_1.bias', 'transformers.0.ffn.linear_2.weight', 'transformers.0.ffn.linear_2.bias', 'class_logits.weight', 'class_logits.bias']\n",
        "        # get the current values for gain sequences\n",
        "        a_t = self.a / (self.t + 1 + self.A)**self.alpha\n",
        "        c_t = self.c / (self.t + 1)**self.gamma\n",
        "\n",
        "        # get the random perturbation vector from bernoulli distribution\n",
        "        # it has to be symmetric around zero\n",
        "        # But normal distribution does not work which makes the perturbations close to zero\n",
        "        # Also, uniform distribution should not be used since they are not around zero\n",
        "        current_param = copy.deepcopy(model.state_dict())\n",
        "#         print(\"===\",current_param['transformers.0.norm2.bias'])\n",
        "        current_param_plus = current_param.copy()\n",
        "        current_param_minus = current_param.copy()\n",
        "        delta_dict = {}\n",
        "\n",
        "        for key, param in current_param.items():\n",
        "            delta = torch.randint(0,2,param.size()) * 2 - 1\n",
        "#             current_param_plus[key] = param + delta * c_t\n",
        "#             current_param_minus[key] = param - delta * c_t\n",
        "            \n",
        "            if key in opt_targets:\n",
        "              current_param_plus[key] = param + delta * c_t\n",
        "              current_param_minus[key] = param - delta * c_t\n",
        "            else:\n",
        "              current_param_plus[key] = param #+ delta * c_t\n",
        "              current_param_minus[key] = param #- delta * c_t\n",
        "            delta_dict[key] = delta\n",
        "\n",
        "        # measure the loss function at perturbations\n",
        "        # calculate loss_plus\n",
        "        model.load_state_dict(current_param_plus)\n",
        "        # predictions = model(inputs).squeeze(1)\n",
        "        predictions = model(inputs, src_mask)\n",
        "#         predictions = predictions/predictions.max().abs()\n",
        "        loss_plus = criterion(predictions.view(-1, ntokens), label)\n",
        "        # loss_plus = self.loss_function(predictions, label)\n",
        "#         loss_plus.backward()\n",
        "#         self.loss_function.zero_grad()\n",
        "#         print(\"predictions\", predictions)\n",
        "#         print(\"weights\", current_param_plus)\n",
        "#         print(\"loss_plus\",loss_plus)\n",
        "#         print(predictions, label)\n",
        "        # calculate loss_minus\n",
        "        model.load_state_dict(current_param_minus)\n",
        "        predictions = model(inputs, src_mask)\n",
        "        # predictions = model(inputs).squeeze(1)\n",
        "#         predictions = predictions/predictions.max().abs()\n",
        "        loss_minus = criterion(predictions.view(-1, ntokens), label)\n",
        "        # loss_minus = self.loss_function(predictions, label)\n",
        "#         loss_minus.backward()\n",
        "#         print(\"---\",current_param['transformers.0.norm2.bias'])\n",
        "#         print(\"---\",current_param_plus['transformers.0.norm2.bias'])\n",
        "#         print(\"---\",current_param_minus['transformers.0.norm2.bias'])\n",
        "        for key, param in current_param.items():\n",
        "            # compute the estimate of the gradient\n",
        "            g_t = (loss_plus - loss_minus) / (2.0 * delta_dict[key] * c_t)\n",
        "            # update the estimate of the parameter\n",
        "#             current_param[key] = param - a_t * g_t\n",
        "            if key in opt_targets:\n",
        "                current_param[key] = param  - a_t * g_t\n",
        "#                 print(key, param, a_t, - a_t * g_t)\n",
        "            else:\n",
        "                current_param[key] = param #- a_t * g_t\n",
        "        # increment the counter\n",
        "        # print(key, param, - a_t * g_t)    \n",
        "        self.t += 1    \n",
        "\n",
        "        model.load_state_dict(current_param)\n",
        "   "
      ],
      "metadata": {
        "id": "yDpZyTAritkh"
      },
      "execution_count": null,
      "outputs": []
    }
  ],
  "metadata": {
    "kernelspec": {
      "display_name": "Python 3",
      "language": "python",
      "name": "python3"
    },
    "language_info": {
      "codemirror_mode": {
        "name": "ipython",
        "version": 3
      },
      "file_extension": ".py",
      "mimetype": "text/x-python",
      "name": "python",
      "nbconvert_exporter": "python",
      "pygments_lexer": "ipython3",
      "version": "3.6.13"
    },
    "colab": {
      "name": "transformer_tutorial.ipynb",
      "provenance": [],
      "toc_visible": true
    },
    "accelerator": "GPU"
  },
  "nbformat": 4,
  "nbformat_minor": 0
}